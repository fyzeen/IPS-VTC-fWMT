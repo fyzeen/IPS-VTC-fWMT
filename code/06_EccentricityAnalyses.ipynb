{
 "cells": [
  {
   "cell_type": "code",
   "execution_count": 1,
   "id": "82ee3797-29e0-4d50-9dbc-a3bc75cc812f",
   "metadata": {},
   "outputs": [],
   "source": [
    "from utils.streamline_to_surface_utils import *\n",
    "from utils.surface_label_utils import *\n",
    "import os.path as op\n",
    "import numpy as np\n",
    "import pandas as pd\n",
    "import matplotlib.pyplot as plt"
   ]
  },
  {
   "cell_type": "code",
   "execution_count": 2,
   "id": "57c81654-d832-4526-bd1d-df2f065f024a",
   "metadata": {},
   "outputs": [],
   "source": [
    "subjects_dir = \"/Applications/freesurfer/7.3.2/subjects\"\n",
    "# subjects_list = [\"subj01\", \"subj02\", \"subj03\", \"subj04\", \"subj05\", \"subj06\", \"subj07\", \"subj08\", \"subj09\", \"subj10\"]\n",
    "subjects_list = [\"subj01\", \"subj02\"]\n",
    "hemis = [\"lh\", \"rh\"]"
   ]
  },
  {
   "cell_type": "code",
   "execution_count": 3,
   "id": "54f34df9-586e-494c-9b8a-eedf28e0289f",
   "metadata": {},
   "outputs": [],
   "source": [
    "#### NOTE: WE STILL NEED TO WRITE THE CODE TO SMOOTH SURF LABELS FOR pRF PROPERTIES!! #####"
   ]
  },
  {
   "cell_type": "code",
   "execution_count": 150,
   "id": "77ff0d17-14e8-488a-bb02-28aa9d49e57b",
   "metadata": {},
   "outputs": [
    {
     "name": "stdout",
     "output_type": "stream",
     "text": [
      "Writing to: /Applications/freesurfer/7.3.2/subjects/subj01/fyz/run1/rh/all/t>3/track-merged/node3-18.endpoints.IPS-intersected.withIPS1.mgz\n"
     ]
    }
   ],
   "source": [
    "## DUE TO LOW IPS2/3 variance explained, we constrain our analysis to IPS0/1\n",
    "\n",
    "# FFA1 vs FFA2 vs OFA to IPS0/1\n",
    "subj = \"subj01\"\n",
    "run = \"run1\"\n",
    "hemi = \"rh\"\n",
    "start = 3\n",
    "\n",
    "\n",
    "prf_label = op.join(subjects_dir, subj, \"label\", hemi + \".prfeccentricity.mgz\")\n",
    "endpoints_to_IPS0 = op.join(subjects_dir, subj, \"fyz\", run, hemi, \"all\", \"t>3\", \"track-merged\", \n",
    "                          f\"node{start}-18.endpoints.IPS-intersected.mgz\")\n",
    "endpoints_to_IPS1 = op.join(subjects_dir, subj, \"fyz\", run, hemi, \"all\", \"t>3\", \"track-merged\", \n",
    "                          f\"node{start}-19.endpoints.IPS-intersected.mgz\")\n",
    "\n",
    "concat_surflabels(endpoints_to_IPS0, endpoints_to_IPS1, write_file=True, \n",
    "                  out_path=op.join(subjects_dir, subj, \"fyz\", run, hemi, \"all\", \"t>3\", \"track-merged\"), \n",
    "                  change_label=\"withIPS1\")\n",
    "endpoints_path = op.join(subjects_dir, subj, \"fyz\", run, hemi, \"all\", \"t>3\", \"track-merged\", \n",
    "                         f\"node{start}-18.endpoints.IPS-intersected.withIPS1.mgz\")\n",
    "\n",
    "\n",
    "out = label_endpoints_with_pRF_property(prf_label, endpoints_path)\n",
    "\n",
    "\n"
   ]
  },
  {
   "cell_type": "code",
   "execution_count": 151,
   "id": "c426988d-fc42-4d78-ac27-752cfd00ba72",
   "metadata": {},
   "outputs": [],
   "source": [
    "df = pd.DataFrame(out[0], columns=[\"Eccentricity\", \"NumberStreamlines\"])\n",
    "\n",
    "dfwithEndpoints = df[df[\"NumberStreamlines\"] > 0]\n",
    "\n",
    "dfReasonable = dfwithEndpoints[dfwithEndpoints[\"Eccentricity\"] < 6]\n",
    "# Rounding to nearest 0.5\n",
    "dfReasonable = (dfReasonable*2).round()/2\n",
    "dfReasonable = dfReasonable.groupby(\"Eccentricity\").sum().reset_index()\n",
    "df4 = dfReasonable\n",
    "\n",
    "#print(dfReasonable)\n",
    "#plt.bar(dfReasonable[\"Eccentricity\"], dfReasonable[\"NumberStreamlines\"])"
   ]
  },
  {
   "cell_type": "code",
   "execution_count": 163,
   "id": "4e230cde-f4a0-418b-a5e4-612828085c09",
   "metadata": {},
   "outputs": [
    {
     "data": {
      "text/plain": [
       "<BarContainer object of 13 artists>"
      ]
     },
     "execution_count": 163,
     "metadata": {},
     "output_type": "execute_result"
    },
    {
     "data": {
      "image/png": "[encoded data removed]",
      "text/plain": [
       "<Figure size 432x288 with 1 Axes>"
      ]
     },
     "metadata": {
      "needs_background": "light"
     },
     "output_type": "display_data"
    }
   ],
   "source": [
    "concat = pd.concat([df1, df2, df3])\n",
    "# this will end up being a mean because we will have proportions (not numbers)\n",
    "concat = concat.groupby(\"Eccentricity\").mean().reset_index()\n",
    "plt.bar(concat[\"Eccentricity\"], concat[\"NumberStreamlines\"])"
   ]
  },
  {
   "cell_type": "code",
   "execution_count": null,
   "id": "33b86b5f-3338-4ff8-ba30-480eb57a5001",
   "metadata": {},
   "outputs": [],
   "source": []
  }
 ],
 "metadata": {
  "kernelspec": {
   "display_name": "Python 3 (ipykernel)",
   "language": "python",
   "name": "python3"
  },
  "language_info": {
   "codemirror_mode": {
    "name": "ipython",
    "version": 3
   },
   "file_extension": ".py",
   "mimetype": "text/x-python",
   "name": "python",
   "nbconvert_exporter": "python",
   "pygments_lexer": "ipython3",
   "version": "3.11.0"
  }
 },
 "nbformat": 4,
 "nbformat_minor": 5
}
