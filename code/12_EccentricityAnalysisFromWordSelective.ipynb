{
 "cells": [
  {
   "cell_type": "code",
   "execution_count": 1,
   "id": "475ccfed",
   "metadata": {},
   "outputs": [],
   "source": [
    "from utils.streamline_to_surface_utils import *\n",
    "from utils.surface_label_utils import *\n",
    "import os.path as op\n",
    "import numpy as np\n",
    "import pandas as pd\n",
    "import matplotlib.pyplot as plt"
   ]
  },
  {
   "cell_type": "code",
   "execution_count": 9,
   "id": "6b6ca440",
   "metadata": {},
   "outputs": [],
   "source": [
    "subjects_dir = \"/home/naxos2-raid25/ahmad262/IPS-VTC-fWMT/data/freesurfer\"\n",
    "subjects_list = [\"subj01\", \"subj02\", \"subj03\", \"subj04\", \"subj05\", \"subj06\", \"subj07\", \"subj08\"]\n",
    "#subjects_list = [\"subj01\", \"subj02\"]\n",
    "hemis = [\"lh\", \"rh\"]\n",
    "runs = [\"run1\", \"run2\"]\n",
    "floc_words_labels = {1: \"OWFA\", 2: \"VWFA1\", 3: \"VWFA2\"}"
   ]
  },
  {
   "cell_type": "code",
   "execution_count": 10,
   "id": "e56ad4ca",
   "metadata": {},
   "outputs": [],
   "source": [
    "lhOWFAtoIPS0or1 = pd.DataFrame(data=np.arange(0, 6.5, 1), columns=[\"Eccentricity\"])\n",
    "lhOWFAtoIPS0 = pd.DataFrame(data=np.arange(0, 6.5, 1), columns=[\"Eccentricity\"])\n",
    "lhOWFAtoIPS1 = pd.DataFrame(data=np.arange(0, 6.5, 1), columns=[\"Eccentricity\"])\n",
    "\n",
    "lhVWFA1toIPS0or1 = pd.DataFrame(data=np.arange(0, 6.5, 1), columns=[\"Eccentricity\"])\n",
    "lhVWFA1toIPS0 = pd.DataFrame(data=np.arange(0, 6.5, 1), columns=[\"Eccentricity\"])\n",
    "lhVWFA1toIPS1 = pd.DataFrame(data=np.arange(0, 6.5, 1), columns=[\"Eccentricity\"])\n",
    "\n",
    "lhVWFA2toIPS0or1 = pd.DataFrame(data=np.arange(0, 6.5, 1), columns=[\"Eccentricity\"])\n",
    "lhVWFA2toIPS0 = pd.DataFrame(data=np.arange(0, 6.5, 1), columns=[\"Eccentricity\"])\n",
    "lhVWFA2toIPS1 = pd.DataFrame(data=np.arange(0, 6.5, 1), columns=[\"Eccentricity\"])\n",
    "\n",
    "rhOWFAtoIPS0or1 = pd.DataFrame(data=np.arange(0, 6.5, 1), columns=[\"Eccentricity\"])\n",
    "rhOWFAtoIPS0 = pd.DataFrame(data=np.arange(0, 6.5, 1), columns=[\"Eccentricity\"])\n",
    "rhOWFAtoIPS1 = pd.DataFrame(data=np.arange(0, 6.5, 1), columns=[\"Eccentricity\"])\n",
    "\n",
    "rhVWFA1toIPS0or1 = pd.DataFrame(data=np.arange(0, 6.5, 1), columns=[\"Eccentricity\"])\n",
    "rhVWFA1toIPS0 = pd.DataFrame(data=np.arange(0, 6.5, 1), columns=[\"Eccentricity\"])\n",
    "rhVWFA1toIPS1 = pd.DataFrame(data=np.arange(0, 6.5, 1), columns=[\"Eccentricity\"])\n",
    "\n",
    "rhVWFA2toIPS0or1 = pd.DataFrame(data=np.arange(0, 6.5, 1), columns=[\"Eccentricity\"])\n",
    "rhVWFA2toIPS0 = pd.DataFrame(data=np.arange(0, 6.5, 1), columns=[\"Eccentricity\"])\n",
    "rhVWFA2toIPS1 = pd.DataFrame(data=np.arange(0, 6.5, 1), columns=[\"Eccentricity\"])"
   ]
  },
  {
   "cell_type": "code",
   "execution_count": 14,
   "id": "8fbbbab5",
   "metadata": {},
   "outputs": [
    {
     "name": "stdout",
     "output_type": "stream",
     "text": [
      "Writing to: /home/naxos2-raid25/ahmad262/IPS-VTC-fWMT/data/freesurfer/subj01/fyz/run1/lh/floc-words/node1-18.endpoints.cleaned_withManualIPS.withIPS1.mgz\n",
      "Writing to: /home/naxos2-raid25/ahmad262/IPS-VTC-fWMT/data/freesurfer/subj01/fyz/run1/lh/floc-words/node2-18.endpoints.cleaned_withManualIPS.withIPS1.mgz\n",
      "Writing to: /home/naxos2-raid25/ahmad262/IPS-VTC-fWMT/data/freesurfer/subj01/fyz/run1/lh/floc-words/node3-18.endpoints.cleaned_withManualIPS.withIPS1.mgz\n",
      "Writing to: /home/naxos2-raid25/ahmad262/IPS-VTC-fWMT/data/freesurfer/subj01/fyz/run2/lh/floc-words/node1-18.endpoints.cleaned_withManualIPS.withIPS1.mgz\n",
      "Writing to: /home/naxos2-raid25/ahmad262/IPS-VTC-fWMT/data/freesurfer/subj01/fyz/run2/lh/floc-words/node2-18.endpoints.cleaned_withManualIPS.withIPS1.mgz\n",
      "Writing to: /home/naxos2-raid25/ahmad262/IPS-VTC-fWMT/data/freesurfer/subj01/fyz/run2/lh/floc-words/node3-18.endpoints.cleaned_withManualIPS.withIPS1.mgz\n",
      "Writing to: /home/naxos2-raid25/ahmad262/IPS-VTC-fWMT/data/freesurfer/subj01/fyz/run1/rh/floc-words/node1-18.endpoints.cleaned_withManualIPS.withIPS1.mgz\n",
      "Writing to: /home/naxos2-raid25/ahmad262/IPS-VTC-fWMT/data/freesurfer/subj01/fyz/run1/rh/floc-words/node2-18.endpoints.cleaned_withManualIPS.withIPS1.mgz\n",
      "Writing to: /home/naxos2-raid25/ahmad262/IPS-VTC-fWMT/data/freesurfer/subj01/fyz/run1/rh/floc-words/node3-18.endpoints.cleaned_withManualIPS.withIPS1.mgz\n",
      "Writing to: /home/naxos2-raid25/ahmad262/IPS-VTC-fWMT/data/freesurfer/subj01/fyz/run2/rh/floc-words/node1-18.endpoints.cleaned_withManualIPS.withIPS1.mgz\n",
      "Writing to: /home/naxos2-raid25/ahmad262/IPS-VTC-fWMT/data/freesurfer/subj01/fyz/run2/rh/floc-words/node2-18.endpoints.cleaned_withManualIPS.withIPS1.mgz\n",
      "Writing to: /home/naxos2-raid25/ahmad262/IPS-VTC-fWMT/data/freesurfer/subj01/fyz/run2/rh/floc-words/node3-18.endpoints.cleaned_withManualIPS.withIPS1.mgz\n",
      "Writing to: /home/naxos2-raid25/ahmad262/IPS-VTC-fWMT/data/freesurfer/subj02/fyz/run1/lh/floc-words/node1-18.endpoints.cleaned_withManualIPS.withIPS1.mgz\n",
      "Writing to: /home/naxos2-raid25/ahmad262/IPS-VTC-fWMT/data/freesurfer/subj02/fyz/run1/lh/floc-words/node2-18.endpoints.cleaned_withManualIPS.withIPS1.mgz\n",
      "Writing to: /home/naxos2-raid25/ahmad262/IPS-VTC-fWMT/data/freesurfer/subj02/fyz/run1/lh/floc-words/node3-18.endpoints.cleaned_withManualIPS.withIPS1.mgz\n",
      "Writing to: /home/naxos2-raid25/ahmad262/IPS-VTC-fWMT/data/freesurfer/subj02/fyz/run2/lh/floc-words/node1-18.endpoints.cleaned_withManualIPS.withIPS1.mgz\n",
      "Writing to: /home/naxos2-raid25/ahmad262/IPS-VTC-fWMT/data/freesurfer/subj02/fyz/run2/lh/floc-words/node2-18.endpoints.cleaned_withManualIPS.withIPS1.mgz\n",
      "Writing to: /home/naxos2-raid25/ahmad262/IPS-VTC-fWMT/data/freesurfer/subj02/fyz/run2/lh/floc-words/node3-18.endpoints.cleaned_withManualIPS.withIPS1.mgz\n",
      "Writing to: /home/naxos2-raid25/ahmad262/IPS-VTC-fWMT/data/freesurfer/subj02/fyz/run1/rh/floc-words/node1-18.endpoints.cleaned_withManualIPS.withIPS1.mgz\n",
      "Writing to: /home/naxos2-raid25/ahmad262/IPS-VTC-fWMT/data/freesurfer/subj02/fyz/run1/rh/floc-words/node2-18.endpoints.cleaned_withManualIPS.withIPS1.mgz\n",
      "Writing to: /home/naxos2-raid25/ahmad262/IPS-VTC-fWMT/data/freesurfer/subj02/fyz/run1/rh/floc-words/node3-18.endpoints.cleaned_withManualIPS.withIPS1.mgz\n",
      "Writing to: /home/naxos2-raid25/ahmad262/IPS-VTC-fWMT/data/freesurfer/subj02/fyz/run2/rh/floc-words/node1-18.endpoints.cleaned_withManualIPS.withIPS1.mgz\n",
      "Writing to: /home/naxos2-raid25/ahmad262/IPS-VTC-fWMT/data/freesurfer/subj02/fyz/run2/rh/floc-words/node2-18.endpoints.cleaned_withManualIPS.withIPS1.mgz\n",
      "Writing to: /home/naxos2-raid25/ahmad262/IPS-VTC-fWMT/data/freesurfer/subj02/fyz/run2/rh/floc-words/node3-18.endpoints.cleaned_withManualIPS.withIPS1.mgz\n",
      "Writing to: /home/naxos2-raid25/ahmad262/IPS-VTC-fWMT/data/freesurfer/subj03/fyz/run1/lh/floc-words/node1-18.endpoints.cleaned_withManualIPS.withIPS1.mgz\n",
      "Writing to: /home/naxos2-raid25/ahmad262/IPS-VTC-fWMT/data/freesurfer/subj03/fyz/run1/lh/floc-words/node2-18.endpoints.cleaned_withManualIPS.withIPS1.mgz\n",
      "Writing to: /home/naxos2-raid25/ahmad262/IPS-VTC-fWMT/data/freesurfer/subj03/fyz/run1/lh/floc-words/node3-18.endpoints.cleaned_withManualIPS.withIPS1.mgz\n",
      "Writing to: /home/naxos2-raid25/ahmad262/IPS-VTC-fWMT/data/freesurfer/subj03/fyz/run2/lh/floc-words/node1-18.endpoints.cleaned_withManualIPS.withIPS1.mgz\n",
      "Writing to: /home/naxos2-raid25/ahmad262/IPS-VTC-fWMT/data/freesurfer/subj03/fyz/run2/lh/floc-words/node2-18.endpoints.cleaned_withManualIPS.withIPS1.mgz\n",
      "Writing to: /home/naxos2-raid25/ahmad262/IPS-VTC-fWMT/data/freesurfer/subj03/fyz/run2/lh/floc-words/node3-18.endpoints.cleaned_withManualIPS.withIPS1.mgz\n",
      "Writing to: /home/naxos2-raid25/ahmad262/IPS-VTC-fWMT/data/freesurfer/subj03/fyz/run1/rh/floc-words/node1-18.endpoints.cleaned_withManualIPS.withIPS1.mgz\n",
      "Writing to: /home/naxos2-raid25/ahmad262/IPS-VTC-fWMT/data/freesurfer/subj03/fyz/run1/rh/floc-words/node2-18.endpoints.cleaned_withManualIPS.withIPS1.mgz\n",
      "Writing to: /home/naxos2-raid25/ahmad262/IPS-VTC-fWMT/data/freesurfer/subj03/fyz/run2/rh/floc-words/node1-18.endpoints.cleaned_withManualIPS.withIPS1.mgz\n",
      "Writing to: /home/naxos2-raid25/ahmad262/IPS-VTC-fWMT/data/freesurfer/subj03/fyz/run2/rh/floc-words/node2-18.endpoints.cleaned_withManualIPS.withIPS1.mgz\n",
      "Writing to: /home/naxos2-raid25/ahmad262/IPS-VTC-fWMT/data/freesurfer/subj04/fyz/run1/lh/floc-words/node1-18.endpoints.cleaned_withManualIPS.withIPS1.mgz\n",
      "Writing to: /home/naxos2-raid25/ahmad262/IPS-VTC-fWMT/data/freesurfer/subj04/fyz/run1/lh/floc-words/node2-18.endpoints.cleaned_withManualIPS.withIPS1.mgz\n",
      "Writing to: /home/naxos2-raid25/ahmad262/IPS-VTC-fWMT/data/freesurfer/subj04/fyz/run1/lh/floc-words/node3-18.endpoints.cleaned_withManualIPS.withIPS1.mgz\n",
      "Writing to: /home/naxos2-raid25/ahmad262/IPS-VTC-fWMT/data/freesurfer/subj04/fyz/run2/lh/floc-words/node1-18.endpoints.cleaned_withManualIPS.withIPS1.mgz\n",
      "Writing to: /home/naxos2-raid25/ahmad262/IPS-VTC-fWMT/data/freesurfer/subj04/fyz/run2/lh/floc-words/node2-18.endpoints.cleaned_withManualIPS.withIPS1.mgz\n",
      "Writing to: /home/naxos2-raid25/ahmad262/IPS-VTC-fWMT/data/freesurfer/subj04/fyz/run2/lh/floc-words/node3-18.endpoints.cleaned_withManualIPS.withIPS1.mgz\n",
      "Writing to: /home/naxos2-raid25/ahmad262/IPS-VTC-fWMT/data/freesurfer/subj04/fyz/run1/rh/floc-words/node1-18.endpoints.cleaned_withManualIPS.withIPS1.mgz\n",
      "Writing to: /home/naxos2-raid25/ahmad262/IPS-VTC-fWMT/data/freesurfer/subj04/fyz/run1/rh/floc-words/node2-18.endpoints.cleaned_withManualIPS.withIPS1.mgz\n",
      "Writing to: /home/naxos2-raid25/ahmad262/IPS-VTC-fWMT/data/freesurfer/subj04/fyz/run2/rh/floc-words/node1-18.endpoints.cleaned_withManualIPS.withIPS1.mgz\n",
      "Writing to: /home/naxos2-raid25/ahmad262/IPS-VTC-fWMT/data/freesurfer/subj04/fyz/run2/rh/floc-words/node2-18.endpoints.cleaned_withManualIPS.withIPS1.mgz\n",
      "Writing to: /home/naxos2-raid25/ahmad262/IPS-VTC-fWMT/data/freesurfer/subj05/fyz/run1/lh/floc-words/node1-18.endpoints.cleaned_withManualIPS.withIPS1.mgz\n",
      "Writing to: /home/naxos2-raid25/ahmad262/IPS-VTC-fWMT/data/freesurfer/subj05/fyz/run1/lh/floc-words/node2-18.endpoints.cleaned_withManualIPS.withIPS1.mgz\n",
      "Writing to: /home/naxos2-raid25/ahmad262/IPS-VTC-fWMT/data/freesurfer/subj05/fyz/run1/lh/floc-words/node3-18.endpoints.cleaned_withManualIPS.withIPS1.mgz\n",
      "Writing to: /home/naxos2-raid25/ahmad262/IPS-VTC-fWMT/data/freesurfer/subj05/fyz/run2/lh/floc-words/node1-18.endpoints.cleaned_withManualIPS.withIPS1.mgz\n",
      "Writing to: /home/naxos2-raid25/ahmad262/IPS-VTC-fWMT/data/freesurfer/subj05/fyz/run2/lh/floc-words/node2-18.endpoints.cleaned_withManualIPS.withIPS1.mgz\n",
      "Writing to: /home/naxos2-raid25/ahmad262/IPS-VTC-fWMT/data/freesurfer/subj05/fyz/run2/lh/floc-words/node3-18.endpoints.cleaned_withManualIPS.withIPS1.mgz\n",
      "Writing to: /home/naxos2-raid25/ahmad262/IPS-VTC-fWMT/data/freesurfer/subj05/fyz/run1/rh/floc-words/node1-18.endpoints.cleaned_withManualIPS.withIPS1.mgz\n",
      "Writing to: /home/naxos2-raid25/ahmad262/IPS-VTC-fWMT/data/freesurfer/subj05/fyz/run1/rh/floc-words/node2-18.endpoints.cleaned_withManualIPS.withIPS1.mgz\n",
      "Writing to: /home/naxos2-raid25/ahmad262/IPS-VTC-fWMT/data/freesurfer/subj05/fyz/run1/rh/floc-words/node3-18.endpoints.cleaned_withManualIPS.withIPS1.mgz\n",
      "Writing to: /home/naxos2-raid25/ahmad262/IPS-VTC-fWMT/data/freesurfer/subj05/fyz/run2/rh/floc-words/node1-18.endpoints.cleaned_withManualIPS.withIPS1.mgz\n",
      "Writing to: /home/naxos2-raid25/ahmad262/IPS-VTC-fWMT/data/freesurfer/subj05/fyz/run2/rh/floc-words/node2-18.endpoints.cleaned_withManualIPS.withIPS1.mgz\n",
      "Writing to: /home/naxos2-raid25/ahmad262/IPS-VTC-fWMT/data/freesurfer/subj05/fyz/run2/rh/floc-words/node3-18.endpoints.cleaned_withManualIPS.withIPS1.mgz\n"
     ]
    },
    {
     "name": "stdout",
     "output_type": "stream",
     "text": [
      "Writing to: /home/naxos2-raid25/ahmad262/IPS-VTC-fWMT/data/freesurfer/subj06/fyz/run1/lh/floc-words/node1-18.endpoints.cleaned_withManualIPS.withIPS1.mgz\n",
      "Writing to: /home/naxos2-raid25/ahmad262/IPS-VTC-fWMT/data/freesurfer/subj06/fyz/run1/lh/floc-words/node2-18.endpoints.cleaned_withManualIPS.withIPS1.mgz\n",
      "Writing to: /home/naxos2-raid25/ahmad262/IPS-VTC-fWMT/data/freesurfer/subj06/fyz/run1/lh/floc-words/node3-18.endpoints.cleaned_withManualIPS.withIPS1.mgz\n",
      "Writing to: /home/naxos2-raid25/ahmad262/IPS-VTC-fWMT/data/freesurfer/subj06/fyz/run2/lh/floc-words/node1-18.endpoints.cleaned_withManualIPS.withIPS1.mgz\n",
      "Writing to: /home/naxos2-raid25/ahmad262/IPS-VTC-fWMT/data/freesurfer/subj06/fyz/run2/lh/floc-words/node2-18.endpoints.cleaned_withManualIPS.withIPS1.mgz\n",
      "Writing to: /home/naxos2-raid25/ahmad262/IPS-VTC-fWMT/data/freesurfer/subj06/fyz/run2/lh/floc-words/node3-18.endpoints.cleaned_withManualIPS.withIPS1.mgz\n",
      "Writing to: /home/naxos2-raid25/ahmad262/IPS-VTC-fWMT/data/freesurfer/subj06/fyz/run1/rh/floc-words/node1-18.endpoints.cleaned_withManualIPS.withIPS1.mgz\n",
      "Writing to: /home/naxos2-raid25/ahmad262/IPS-VTC-fWMT/data/freesurfer/subj06/fyz/run1/rh/floc-words/node2-18.endpoints.cleaned_withManualIPS.withIPS1.mgz\n",
      "Writing to: /home/naxos2-raid25/ahmad262/IPS-VTC-fWMT/data/freesurfer/subj06/fyz/run1/rh/floc-words/node3-18.endpoints.cleaned_withManualIPS.withIPS1.mgz\n",
      "Writing to: /home/naxos2-raid25/ahmad262/IPS-VTC-fWMT/data/freesurfer/subj06/fyz/run2/rh/floc-words/node1-18.endpoints.cleaned_withManualIPS.withIPS1.mgz\n",
      "Writing to: /home/naxos2-raid25/ahmad262/IPS-VTC-fWMT/data/freesurfer/subj06/fyz/run2/rh/floc-words/node2-18.endpoints.cleaned_withManualIPS.withIPS1.mgz\n",
      "Writing to: /home/naxos2-raid25/ahmad262/IPS-VTC-fWMT/data/freesurfer/subj06/fyz/run2/rh/floc-words/node3-18.endpoints.cleaned_withManualIPS.withIPS1.mgz\n",
      "Writing to: /home/naxos2-raid25/ahmad262/IPS-VTC-fWMT/data/freesurfer/subj07/fyz/run1/lh/floc-words/node1-18.endpoints.cleaned_withManualIPS.withIPS1.mgz\n",
      "Writing to: /home/naxos2-raid25/ahmad262/IPS-VTC-fWMT/data/freesurfer/subj07/fyz/run1/lh/floc-words/node2-18.endpoints.cleaned_withManualIPS.withIPS1.mgz\n",
      "Writing to: /home/naxos2-raid25/ahmad262/IPS-VTC-fWMT/data/freesurfer/subj07/fyz/run1/lh/floc-words/node3-18.endpoints.cleaned_withManualIPS.withIPS1.mgz\n",
      "Writing to: /home/naxos2-raid25/ahmad262/IPS-VTC-fWMT/data/freesurfer/subj07/fyz/run2/lh/floc-words/node1-18.endpoints.cleaned_withManualIPS.withIPS1.mgz\n",
      "Writing to: /home/naxos2-raid25/ahmad262/IPS-VTC-fWMT/data/freesurfer/subj07/fyz/run2/lh/floc-words/node2-18.endpoints.cleaned_withManualIPS.withIPS1.mgz\n",
      "Writing to: /home/naxos2-raid25/ahmad262/IPS-VTC-fWMT/data/freesurfer/subj07/fyz/run2/lh/floc-words/node3-18.endpoints.cleaned_withManualIPS.withIPS1.mgz\n",
      "Writing to: /home/naxos2-raid25/ahmad262/IPS-VTC-fWMT/data/freesurfer/subj07/fyz/run1/rh/floc-words/node1-18.endpoints.cleaned_withManualIPS.withIPS1.mgz\n",
      "Writing to: /home/naxos2-raid25/ahmad262/IPS-VTC-fWMT/data/freesurfer/subj07/fyz/run1/rh/floc-words/node2-18.endpoints.cleaned_withManualIPS.withIPS1.mgz\n",
      "Writing to: /home/naxos2-raid25/ahmad262/IPS-VTC-fWMT/data/freesurfer/subj07/fyz/run1/rh/floc-words/node3-18.endpoints.cleaned_withManualIPS.withIPS1.mgz\n",
      "Writing to: /home/naxos2-raid25/ahmad262/IPS-VTC-fWMT/data/freesurfer/subj07/fyz/run2/rh/floc-words/node1-18.endpoints.cleaned_withManualIPS.withIPS1.mgz\n",
      "Writing to: /home/naxos2-raid25/ahmad262/IPS-VTC-fWMT/data/freesurfer/subj07/fyz/run2/rh/floc-words/node2-18.endpoints.cleaned_withManualIPS.withIPS1.mgz\n",
      "Writing to: /home/naxos2-raid25/ahmad262/IPS-VTC-fWMT/data/freesurfer/subj07/fyz/run2/rh/floc-words/node3-18.endpoints.cleaned_withManualIPS.withIPS1.mgz\n",
      "Writing to: /home/naxos2-raid25/ahmad262/IPS-VTC-fWMT/data/freesurfer/subj08/fyz/run1/lh/floc-words/node1-18.endpoints.cleaned_withManualIPS.withIPS1.mgz\n",
      "Writing to: /home/naxos2-raid25/ahmad262/IPS-VTC-fWMT/data/freesurfer/subj08/fyz/run1/lh/floc-words/node2-18.endpoints.cleaned_withManualIPS.withIPS1.mgz\n",
      "Writing to: /home/naxos2-raid25/ahmad262/IPS-VTC-fWMT/data/freesurfer/subj08/fyz/run1/lh/floc-words/node3-18.endpoints.cleaned_withManualIPS.withIPS1.mgz\n",
      "Writing to: /home/naxos2-raid25/ahmad262/IPS-VTC-fWMT/data/freesurfer/subj08/fyz/run2/lh/floc-words/node1-18.endpoints.cleaned_withManualIPS.withIPS1.mgz\n",
      "Writing to: /home/naxos2-raid25/ahmad262/IPS-VTC-fWMT/data/freesurfer/subj08/fyz/run2/lh/floc-words/node2-18.endpoints.cleaned_withManualIPS.withIPS1.mgz\n",
      "Writing to: /home/naxos2-raid25/ahmad262/IPS-VTC-fWMT/data/freesurfer/subj08/fyz/run2/lh/floc-words/node3-18.endpoints.cleaned_withManualIPS.withIPS1.mgz\n",
      "Writing to: /home/naxos2-raid25/ahmad262/IPS-VTC-fWMT/data/freesurfer/subj08/fyz/run1/rh/floc-words/node1-18.endpoints.cleaned_withManualIPS.withIPS1.mgz\n",
      "Writing to: /home/naxos2-raid25/ahmad262/IPS-VTC-fWMT/data/freesurfer/subj08/fyz/run1/rh/floc-words/node2-18.endpoints.cleaned_withManualIPS.withIPS1.mgz\n",
      "Writing to: /home/naxos2-raid25/ahmad262/IPS-VTC-fWMT/data/freesurfer/subj08/fyz/run2/rh/floc-words/node1-18.endpoints.cleaned_withManualIPS.withIPS1.mgz\n",
      "Writing to: /home/naxos2-raid25/ahmad262/IPS-VTC-fWMT/data/freesurfer/subj08/fyz/run2/rh/floc-words/node2-18.endpoints.cleaned_withManualIPS.withIPS1.mgz\n"
     ]
    }
   ],
   "source": [
    "# Function to set values greater than 6 to 6\n",
    "def cap_at_six(x):\n",
    "    return min(x, 6)\n",
    "\n",
    "# 1 table for each VTC ROI: FFA1 to IPS0/1; FFA2 to IPS0/1; OFA to IPS0/1\n",
    "for subj in subjects_list:\n",
    "    subj_dir = op.join(subjects_dir, subj)\n",
    "    for hemi in hemis:\n",
    "        for run in runs:\n",
    "            floc_words_path = op.join(subj_dir, \"fyz\", \"anatomy\", f\"{hemi}-rois\", \"all\", \"floc-words\", f\"{hemi}.floc-words.subsetted.mgz\")\n",
    "            available_ROIs, available_ROINums = available_floc_rois(floc_words_path)\n",
    "            for start in available_ROINums:   \n",
    "                prf_label = op.join(subjects_dir, subj, \"label\", hemi + \".prfeccentricity.smoothed.mgz\") # non smoothed is just without .smoothed\n",
    "\n",
    "                endpoints_to_IPS0 = op.join(subjects_dir, subj, \"fyz\", run, hemi, \"floc-words\", \n",
    "                                            f\"node{int(start)}-18.endpoints.cleaned_withManualIPS.mgz\") # could also be .IPS-intersected.mgz\n",
    "                endpoints_to_IPS1 = op.join(subjects_dir, subj, \"fyz\", run, hemi, \"floc-words\", \n",
    "                                            f\"node{int(start)}-19.endpoints.cleaned_withManualIPS.mgz\") # could also be .IPS-intersected.mgz\n",
    "                \n",
    "                concat_surflabels(endpoints_to_IPS0, endpoints_to_IPS1, write_file=True, \n",
    "                                  out_path=op.join(subjects_dir, subj, \"fyz\", run, hemi, \"floc-words\"), \n",
    "                                  change_label=\"withIPS1\")\n",
    "                endpoints_to_IPS0or1 = op.join(subjects_dir, subj, \"fyz\", run, hemi, \"floc-words\", \n",
    "                                        f\"node{int(start)}-18.endpoints.cleaned_withManualIPS.withIPS1.mgz\")\n",
    "                \n",
    "                startToIPS0or1, startToIPS0or1Count = label_endpoints_with_pRF_property(prf_label, endpoints_to_IPS0or1)\n",
    "                startToIPS0, startToIPS0Count = label_endpoints_with_pRF_property(prf_label, endpoints_to_IPS0)\n",
    "                startToIPS1, startToIPS1Count = label_endpoints_with_pRF_property(prf_label, endpoints_to_IPS1)\n",
    "\n",
    "                for items in [[startToIPS0or1, startToIPS0or1Count, \"IPS0or1\"], [startToIPS0, startToIPS0Count, \"IPS0\"], [startToIPS1, startToIPS1Count, \"IPS1\"]]:\n",
    "                    propStreamlinesSubj = f\"propStreamlines{subj}{run}\"\n",
    "                    df = pd.DataFrame(items[0], columns=[\"Eccentricity\", propStreamlinesSubj])\n",
    "                    \n",
    "                    dfwithEndpoints = df[df[propStreamlinesSubj] > 0]\n",
    "                    #dfReasonable = dfwithEndpoints[dfwithEndpoints[\"Eccentricity\"] < 6.25] # 6.25 because rounding to nearest 0.5, based on limitation of stimulus size in experiment\n",
    "                    dfReasonable = dfwithEndpoints.applymap(cap_at_six)\n",
    "                    #dfReasonable = (dfReasonable*2).round()/2 # rounding to neatest 0.5\n",
    "                    dfReasonable = dfReasonable.round(0)\n",
    "                    dfReasonable = dfReasonable.groupby(\"Eccentricity\").sum().reset_index()\n",
    "                    dfReasonable[propStreamlinesSubj] = dfReasonable[propStreamlinesSubj] / items[1] # puts everything into proportions\n",
    "                    \n",
    "                    # Selectively merge with correct dataframe\n",
    "                    vars()[f\"{hemi}{floc_words_labels[int(start)]}to{items[2]}\"] = vars()[f\"{hemi}{floc_words_labels[int(start)]}to{items[2]}\"].merge(dfReasonable, on=\"Eccentricity\", how=\"outer\")\n",
    "                    "
   ]
  },
  {
   "cell_type": "code",
   "execution_count": 25,
   "id": "aa4f8982",
   "metadata": {},
   "outputs": [
    {
     "data": {
      "text/plain": [
       "<matplotlib.collections.PathCollection at 0x7ff346e54e10>"
      ]
     },
     "execution_count": 25,
     "metadata": {},
     "output_type": "execute_result"
    },
    {
     "data": {
      "image/png": "[encoded data removed]",
      "text/plain": [
       "<Figure size 640x480 with 1 Axes>"
      ]
     },
     "metadata": {},
     "output_type": "display_data"
    }
   ],
   "source": [
    "df = rhVWFA1toIPS0\n",
    "transpose = df.transpose()\n",
    "transpose = transpose.rename(columns=transpose.iloc[0])[1:]\n",
    "\n",
    "a = transpose.describe()\n",
    "means = a.loc['mean'].values.tolist()\n",
    "stdevs = a.loc['std'].values.tolist()\n",
    "counts = a.loc['count'].values.tolist()\n",
    "index = np.arange(len(transpose.columns))\n",
    "\n",
    "CI = []\n",
    "for i in range(len(means)):\n",
    "    CIval = 1.96*stdevs[i]/(counts[i]**(0.5)) # we might want to use the proportion CI calculation instead of means\n",
    "    CI.append(CIval)\n",
    "    \n",
    "plt.bar(index, means, yerr=CI)\n",
    "plt.scatter(transpose.melt()[\"variable\"], transpose.melt()[\"value\"], marker=\".\", alpha=0.25, color=\"black\")"
   ]
  },
  {
   "cell_type": "code",
   "execution_count": null,
   "id": "2275126e",
   "metadata": {},
   "outputs": [],
   "source": []
  },
  {
   "cell_type": "code",
   "execution_count": null,
   "id": "3345509b",
   "metadata": {},
   "outputs": [],
   "source": []
  }
 ],
 "metadata": {
  "kernelspec": {
   "display_name": "Python 3 (ipykernel)",
   "language": "python",
   "name": "python3"
  },
  "language_info": {
   "codemirror_mode": {
    "name": "ipython",
    "version": 3
   },
   "file_extension": ".py",
   "mimetype": "text/x-python",
   "name": "python",
   "nbconvert_exporter": "python",
   "pygments_lexer": "ipython3",
   "version": "3.11.0"
  }
 },
 "nbformat": 4,
 "nbformat_minor": 5
}
