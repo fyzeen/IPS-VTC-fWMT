{
 "cells": [
  {
   "cell_type": "code",
   "execution_count": 2,
   "id": "0012f9d8-6e79-482a-814a-590c57de29ee",
   "metadata": {},
   "outputs": [],
   "source": [
    "import os.path as op\n",
    "import numpy as np\n",
    "import pandas as pd\n",
    "import matplotlib.pyplot as plt"
   ]
  },
  {
   "cell_type": "code",
   "execution_count": 3,
   "id": "de6b6dc6-9e97-4d3b-ac45-9338752ba1fd",
   "metadata": {},
   "outputs": [],
   "source": [
    "subjects_dir = \"/Applications/freesurfer/7.3.2/subjects\"\n",
    "# subjects_list = [\"subj01\", \"subj02\", \"subj03\", \"subj04\", \"subj05\", \"subj06\", \"subj07\", \"subj08\", \"subj09\", \"subj10\"]\n",
    "subjects_list = [\"subj01\", \"subj02\"]\n",
    "hemis = [\"lh\", \"rh\"]\n",
    "run = [\"run1\", \"run2\"]"
   ]
  },
  {
   "cell_type": "code",
   "execution_count": 3,
   "id": "548d2393-d149-47aa-9e06-2cfbe2371077",
   "metadata": {},
   "outputs": [],
   "source": [
    "propFFA1toIPS0 = []\n",
    "propFFA1toIPS1 = []\n",
    "propFFA1toIPSwhole = []\n",
    "\n",
    "propFFA2toIPS0 = []\n",
    "propFFA2toIPS1 = []\n",
    "propFFA2toIPSwhole = []\n",
    "\n",
    "propOFAtoIPS0 = []\n",
    "propOFAtoIPS1 = []\n",
    "propOFAtoIPSwhole = []\n",
    "\n",
    "for i in [1, 2, 3]:\n",
    "    for hemi in hemis:   \n",
    "        for subj in subjects_list:\n",
    "            subj_dir = op.join(subjects_dir, subj)\n",
    "            for run in runs:\n",
    "                path = op.join(subjects_dir, subj, \"fyz\", run, hemi, \"all\", \"t>3\", \"track-merged\")\n",
    "                df = pd.read_csv(op.join(path, \"assignments.txt\"), delimiter = \" \", skiprows=1, header=None, names=[\"StartNode\", \"EndNode\"])\n",
    "\n",
    "            pass\n",
    "        \n",
    "    "
   ]
  },
  {
   "cell_type": "code",
   "execution_count": 11,
   "id": "44ab4709-fd23-49e4-8149-1ec4edbf42ec",
   "metadata": {},
   "outputs": [
    {
     "ename": "ValueError",
     "evalue": "The truth value of a DataFrame is ambiguous. Use a.empty, a.bool(), a.item(), a.any() or a.all().",
     "output_type": "error",
     "traceback": [
      "\u001b[0;31m---------------------------------------------------------------------------\u001b[0m",
      "\u001b[0;31mValueError\u001b[0m                                Traceback (most recent call last)",
      "Cell \u001b[0;32mIn[11], line 10\u001b[0m\n\u001b[1;32m      8\u001b[0m FFA1_df \u001b[38;5;241m=\u001b[39m df[filt\u001b[38;5;241m.\u001b[39msum(axis\u001b[38;5;241m=\u001b[39m\u001b[38;5;241m1\u001b[39m) \u001b[38;5;241m>\u001b[39m \u001b[38;5;241m0\u001b[39m]\n\u001b[1;32m      9\u001b[0m FFA1_df\n\u001b[0;32m---> 10\u001b[0m filt2 \u001b[38;5;241m=\u001b[39m  (FFA1_df[[\u001b[38;5;124m\"\u001b[39m\u001b[38;5;124mStartNode\u001b[39m\u001b[38;5;124m\"\u001b[39m, \u001b[38;5;124m\"\u001b[39m\u001b[38;5;124mEndNode\u001b[39m\u001b[38;5;124m\"\u001b[39m]] \u001b[38;5;241m==\u001b[39m \u001b[38;5;241m18\u001b[39m \u001b[38;5;241m|\u001b[39m FFA1_df[[\u001b[38;5;124m\"\u001b[39m\u001b[38;5;124mStartNode\u001b[39m\u001b[38;5;124m\"\u001b[39m, \u001b[38;5;124m\"\u001b[39m\u001b[38;5;124mEndNode\u001b[39m\u001b[38;5;124m\"\u001b[39m]] \u001b[38;5;241m==\u001b[39m \u001b[38;5;241m19\u001b[39m)\u001b[38;5;241m.\u001b[39msum(axis\u001b[38;5;241m=\u001b[39m\u001b[38;5;241m1\u001b[39m)\n\u001b[1;32m     11\u001b[0m \u001b[38;5;28mlen\u001b[39m(FFA1_df[filt2\u001b[38;5;241m.\u001b[39msum(axis\u001b[38;5;241m=\u001b[39m\u001b[38;5;241m1\u001b[39m) \u001b[38;5;241m>\u001b[39m \u001b[38;5;241m0\u001b[39m]) \u001b[38;5;241m/\u001b[39m \u001b[38;5;28mlen\u001b[39m(FFA1_df)\n",
      "File \u001b[0;32m~/opt/miniconda3/envs/cvnlab/lib/python3.11/site-packages/pandas/core/generic.py:1527\u001b[0m, in \u001b[0;36mNDFrame.__nonzero__\u001b[0;34m(self)\u001b[0m\n\u001b[1;32m   1525\u001b[0m \u001b[38;5;129m@final\u001b[39m\n\u001b[1;32m   1526\u001b[0m \u001b[38;5;28;01mdef\u001b[39;00m \u001b[38;5;21m__nonzero__\u001b[39m(\u001b[38;5;28mself\u001b[39m) \u001b[38;5;241m-\u001b[39m\u001b[38;5;241m>\u001b[39m NoReturn:\n\u001b[0;32m-> 1527\u001b[0m     \u001b[38;5;28;01mraise\u001b[39;00m \u001b[38;5;167;01mValueError\u001b[39;00m(\n\u001b[1;32m   1528\u001b[0m         \u001b[38;5;124mf\u001b[39m\u001b[38;5;124m\"\u001b[39m\u001b[38;5;124mThe truth value of a \u001b[39m\u001b[38;5;132;01m{\u001b[39;00m\u001b[38;5;28mtype\u001b[39m(\u001b[38;5;28mself\u001b[39m)\u001b[38;5;241m.\u001b[39m\u001b[38;5;18m__name__\u001b[39m\u001b[38;5;132;01m}\u001b[39;00m\u001b[38;5;124m is ambiguous. \u001b[39m\u001b[38;5;124m\"\u001b[39m\n\u001b[1;32m   1529\u001b[0m         \u001b[38;5;124m\"\u001b[39m\u001b[38;5;124mUse a.empty, a.bool(), a.item(), a.any() or a.all().\u001b[39m\u001b[38;5;124m\"\u001b[39m\n\u001b[1;32m   1530\u001b[0m     )\n",
      "\u001b[0;31mValueError\u001b[0m: The truth value of a DataFrame is ambiguous. Use a.empty, a.bool(), a.item(), a.any() or a.all()."
     ]
    }
   ],
   "source": [
    "# Proportion of fiber from FFA1/2/OFA to IPS individually (and whole) -- tests\n",
    "# We essentially want to put these results into a nice data table that we can then perform statistical tests/generate plots with\n",
    "\n",
    "path = op.join(subjects_dir, \"subj01\", \"fyz\", \"run1\", \"rh\", \"all\", \"t>3\", \"track-merged\")\n",
    "df = pd.read_csv(op.join(path, \"assignments.txt\"), delimiter = \" \", skiprows=1, header=None, names=[\"StartNode\", \"EndNode\"])\n",
    "\n",
    "filt = (df[[\"StartNode\", \"EndNode\"]] == 1)\n",
    "FFA1_df = df[filt.sum(axis=1) > 0]\n",
    "FFA1_df\n",
    "filt2 =  (FFA1_df[[\"StartNode\", \"EndNode\"]] == 18)\n",
    "len(FFA1_df[filt2.sum(axis=1) > 0]) / len(FFA1_df)"
   ]
  },
  {
   "cell_type": "code",
   "execution_count": null,
   "id": "af95f002-343d-4e5a-b23e-49207d1f3bf3",
   "metadata": {},
   "outputs": [],
   "source": [
    "# Proprotion of fibers from whole IPS to FFA1 vs FFA2 vs OFA"
   ]
  },
  {
   "cell_type": "code",
   "execution_count": 39,
   "id": "21a5239b-a6fb-49df-9eab-ddc51188766a",
   "metadata": {},
   "outputs": [
    {
     "data": {
      "text/plain": [
       "array([1, 3])"
      ]
     },
     "execution_count": 39,
     "metadata": {},
     "output_type": "execute_result"
    }
   ],
   "source": [
    "# I will create separate lists for each one of VTC ROIs, append to them, and then turn them into numpy arrays for analysis\n",
    "out = []\n",
    "out.append(1)\n",
    "out.append(3)\n",
    "np.array(out)"
   ]
  },
  {
   "cell_type": "code",
   "execution_count": null,
   "id": "5f5427c6-13fd-4005-9a47-e8945cf58357",
   "metadata": {},
   "outputs": [],
   "source": []
  }
 ],
 "metadata": {
  "kernelspec": {
   "display_name": "Python 3 (ipykernel)",
   "language": "python",
   "name": "python3"
  },
  "language_info": {
   "codemirror_mode": {
    "name": "ipython",
    "version": 3
   },
   "file_extension": ".py",
   "mimetype": "text/x-python",
   "name": "python",
   "nbconvert_exporter": "python",
   "pygments_lexer": "ipython3",
   "version": "3.11.0"
  }
 },
 "nbformat": 4,
 "nbformat_minor": 5
}
