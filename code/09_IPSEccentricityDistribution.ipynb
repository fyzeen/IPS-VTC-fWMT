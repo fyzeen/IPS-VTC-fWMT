{
 "cells": [
  {
   "cell_type": "code",
   "execution_count": 2,
   "id": "a3c4018b",
   "metadata": {},
   "outputs": [],
   "source": [
    "from utils.streamline_to_surface_utils import *\n",
    "from utils.surface_label_utils import *\n",
    "import os.path as op\n",
    "import numpy as np\n",
    "import pandas as pd\n",
    "import matplotlib.pyplot as plt"
   ]
  },
  {
   "cell_type": "code",
   "execution_count": 29,
   "id": "3d33319d",
   "metadata": {},
   "outputs": [],
   "source": [
    "subjects_dir = \"/home/naxos2-raid25/ahmad262/IPS-VTC-fWMT/data/freesurfer\"\n",
    "subjects_list = [\"subj01\", \"subj02\", \"subj03\", \"subj04\", \"subj05\", \"subj06\", \"subj07\", \"subj08\"]\n",
    "hemis = [\"lh\", \"rh\"]\n",
    "\n",
    "# Function to set values greater than 6 to 6\n",
    "def cap_at_six(x):\n",
    "    return min(x, 6)"
   ]
  },
  {
   "cell_type": "code",
   "execution_count": 86,
   "id": "ae62976c",
   "metadata": {},
   "outputs": [],
   "source": [
    "lh_eccentricities_df = pd.DataFrame(data=np.arange(0, 6.5, 1), columns=[\"Eccentricity\"])\n",
    "rh_eccentricities_df = pd.DataFrame(data=np.arange(0, 6.5, 1), columns=[\"Eccentricity\"])\n",
    "\n",
    "for subj in subjects_list:\n",
    "    subj_dir = op.join(subjects_dir, subj)\n",
    "    for hemi in hemis:\n",
    "        prf_label = op.join(subj_dir, \"label\", hemi + \".prfeccentricity.smoothed.mgz\") # non smoothed is just without .smoothed\n",
    "        IPS0_label = op.join(subj_dir, \"fyz\", \"anatomy\", f\"{hemi}-rois\", \"IPS0\", f\"{hemi}.Kastner2015.subsetted.IPS0.mgz\")\n",
    "        \n",
    "        labels, count = label_endpoints_with_pRF_property(prf_label, IPS0_label)\n",
    "        labels[:, 1] = np.where(labels[:, 1] > 0, 1, 0)\n",
    "        \n",
    "        propCoverage = f\"propCoverage{subj}\"\n",
    "        df = pd.DataFrame(labels, columns=[\"Eccentricity\", propCoverage])\n",
    "\n",
    "        dfwithCoverage = df[df[propCoverage] > 0]\n",
    "        #dfReasonable = dfwithEndpoints[dfwithEndpoints[\"Eccentricity\"] < 6.25] # 6.25 because rounding to nearest 0.5, based on limitation of stimulus size in experiment\n",
    "        dfReasonable = dfwithCoverage.applymap(cap_at_six)\n",
    "        #dfReasonable = (dfReasonable*2).round()/2 # rounding to neatest 0.5\n",
    "        dfReasonable = dfReasonable.round(0)\n",
    "        dfReasonable = dfReasonable.groupby(\"Eccentricity\").sum().reset_index()\n",
    "        dfReasonable[propCoverage] = dfReasonable[propCoverage] / labels[:, 1].sum() # puts everything into proportions\n",
    "\n",
    "        vars()[f\"{hemi}_eccentricities_df\"] = vars()[f\"{hemi}_eccentricities_df\"].merge(dfReasonable, on=\"Eccentricity\", how=\"outer\")\n",
    "        "
   ]
  },
  {
   "cell_type": "code",
   "execution_count": 97,
   "id": "0a335a78",
   "metadata": {},
   "outputs": [
    {
     "data": {
      "text/plain": [
       "<matplotlib.collections.PathCollection at 0x7fe747e8e7d0>"
      ]
     },
     "execution_count": 97,
     "metadata": {},
     "output_type": "execute_result"
    },
    {
     "data": {
      "image/png": "[encoded data removed]",
      "text/plain": [
       "<Figure size 640x480 with 1 Axes>"
      ]
     },
     "metadata": {},
     "output_type": "display_data"
    }
   ],
   "source": [
    "df = lh_eccentricities_df\n",
    "transpose = df.transpose()\n",
    "transpose = transpose.rename(columns=transpose.iloc[0])[1:]\n",
    "a = transpose.describe()\n",
    "means = a.loc['mean'].values.tolist()\n",
    "stdevs = a.loc['std'].values.tolist()\n",
    "counts = a.loc['count'].values.tolist()\n",
    "index = np.arange(len(transpose.columns))\n",
    "\n",
    "CI = []\n",
    "for i in range(len(means)):\n",
    "    CIval = 1.96*stdevs[i]/(counts[i]**(0.5)) # we might want to use the proportion CI calculation instead of means\n",
    "    CI.append(CIval)\n",
    "    \n",
    "plt.bar(index, means, yerr=CI, color=\"#fec44f\")\n",
    "plt.scatter(transpose.melt()[\"variable\"], transpose.melt()[\"value\"], marker=\".\", alpha=0.25, color=\"black\")"
   ]
  },
  {
   "cell_type": "code",
   "execution_count": 98,
   "id": "b82bb12e",
   "metadata": {},
   "outputs": [
    {
     "data": {
      "text/plain": [
       "<matplotlib.collections.PathCollection at 0x7fe747ed4a10>"
      ]
     },
     "execution_count": 98,
     "metadata": {},
     "output_type": "execute_result"
    },
    {
     "data": {
      "image/png": "[encoded data removed]",
      "text/plain": [
       "<Figure size 640x480 with 1 Axes>"
      ]
     },
     "metadata": {},
     "output_type": "display_data"
    }
   ],
   "source": [
    "df = rh_eccentricities_df\n",
    "transpose = df.transpose()\n",
    "transpose = transpose.rename(columns=transpose.iloc[0])[1:]\n",
    "a = transpose.describe()\n",
    "means = a.loc['mean'].values.tolist()\n",
    "stdevs = a.loc['std'].values.tolist()\n",
    "counts = a.loc['count'].values.tolist()\n",
    "index = np.arange(len(transpose.columns))\n",
    "\n",
    "CI = []\n",
    "for i in range(len(means)):\n",
    "    CIval = 1.96*stdevs[i]/(counts[i]**(0.5)) # we might want to use the proportion CI calculation instead of means\n",
    "    CI.append(CIval)\n",
    "    \n",
    "plt.bar(index, means, yerr=CI, color=\"#fec44f\")\n",
    "plt.scatter(transpose.melt()[\"variable\"], transpose.melt()[\"value\"], marker=\".\", alpha=0.25, color=\"black\")"
   ]
  },
  {
   "cell_type": "code",
   "execution_count": null,
   "id": "889c3b9e",
   "metadata": {},
   "outputs": [],
   "source": []
  }
 ],
 "metadata": {
  "kernelspec": {
   "display_name": "Python 3 (ipykernel)",
   "language": "python",
   "name": "python3"
  },
  "language_info": {
   "codemirror_mode": {
    "name": "ipython",
    "version": 3
   },
   "file_extension": ".py",
   "mimetype": "text/x-python",
   "name": "python",
   "nbconvert_exporter": "python",
   "pygments_lexer": "ipython3",
   "version": "3.11.0"
  }
 },
 "nbformat": 4,
 "nbformat_minor": 5
}
