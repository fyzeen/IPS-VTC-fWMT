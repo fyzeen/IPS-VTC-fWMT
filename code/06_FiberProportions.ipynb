{
 "cells": [
  {
   "cell_type": "code",
   "execution_count": 9,
   "id": "0012f9d8-6e79-482a-814a-590c57de29ee",
   "metadata": {},
   "outputs": [],
   "source": [
    "import os.path as op\n",
    "import numpy as np\n",
    "import pandas as pd\n",
    "import matplotlib.pyplot as plt\n",
    "from scipy import stats"
   ]
  },
  {
   "cell_type": "code",
   "execution_count": 2,
   "id": "de6b6dc6-9e97-4d3b-ac45-9338752ba1fd",
   "metadata": {},
   "outputs": [],
   "source": [
    "subjects_dir = \"/home/naxos2-raid25/ahmad262/IPS-VTC-fWMT/data/freesurfer\"\n",
    "subjects_list = [\"subj01\", \"subj02\", \"subj03\", \"subj04\", \"subj05\", \"subj06\", \"subj07\", \"subj08\"]\n",
    "#subjects_dir = \"/Applications/freesurfer/7.3.2/subjects\"\n",
    "#subjects_list = [\"subj01\", \"subj02\"]\n",
    "hemis = [\"lh\", \"rh\"]\n",
    "runs = [\"run1\", \"run2\"]"
   ]
  },
  {
   "cell_type": "code",
   "execution_count": 3,
   "id": "548d2393-d149-47aa-9e06-2cfbe2371077",
   "metadata": {},
   "outputs": [],
   "source": [
    "lhpropFFA1toIPS0 = {}\n",
    "lhpropFFA1toIPS1 = {}\n",
    "lhpropFFA1toIPSwhole = {}\n",
    "lhpropFFA1toIPS0or1 = {}\n",
    "\n",
    "lhpropFFA2toIPS0 = {}\n",
    "lhpropFFA2toIPS1 = {}\n",
    "lhpropFFA2toIPSwhole = {}\n",
    "lhpropFFA2toIPS0or1 = {}\n",
    "\n",
    "lhpropOFAtoIPS0 = {}\n",
    "lhpropOFAtoIPS1 = {}\n",
    "lhpropOFAtoIPSwhole = {}\n",
    "lhpropOFAtoIPS0or1 = {}\n",
    "\n",
    "rhpropFFA1toIPS0 = {}\n",
    "rhpropFFA1toIPS1 = {}\n",
    "rhpropFFA1toIPSwhole = {}\n",
    "rhpropFFA1toIPS0or1 = {}\n",
    "\n",
    "rhpropFFA2toIPS0 = {}\n",
    "rhpropFFA2toIPS1 = {}\n",
    "rhpropFFA2toIPSwhole = {}\n",
    "rhpropFFA2toIPS0or1 = {}\n",
    "\n",
    "rhpropOFAtoIPS0 = {}\n",
    "rhpropOFAtoIPS1 = {}\n",
    "rhpropOFAtoIPSwhole = {}\n",
    "rhpropOFAtoIPS0or1 = {}"
   ]
  },
  {
   "cell_type": "code",
   "execution_count": 4,
   "id": "fe824f73-3775-4993-b394-307b1d4cfec2",
   "metadata": {},
   "outputs": [],
   "source": [
    "# Proportion of fibers from FFA1 vs FFA2 vs OFA to IPS\n",
    "for hemi in hemis:   \n",
    "    for i in [[1], [2], [3]]:\n",
    "        for subj in subjects_list:\n",
    "            subj_dir = op.join(subjects_dir, subj)\n",
    "            for run in runs:\n",
    "                path = op.join(subjects_dir, subj, \"fyz\", run, hemi, \"all\", \"t>3\", \"track-merged\")\n",
    "                df = pd.read_csv(op.join(path, \"assignments.txt\"), delimiter = \" \", skiprows=1, header=None, names=[\"StartNode\", \"EndNode\"])\n",
    "                \n",
    "                \n",
    "                filt = (df[[\"StartNode\", \"EndNode\"]].isin(i))\n",
    "                vtcROI_df = df[filt.sum(axis=1) > 0]\n",
    "                filt18 =  (vtcROI_df[[\"StartNode\", \"EndNode\"]].isin([18]))\n",
    "                filt19 =  (vtcROI_df[[\"StartNode\", \"EndNode\"]].isin([19]))\n",
    "                filt18or19 = (vtcROI_df[[\"StartNode\", \"EndNode\"]].isin([18, 19]))\n",
    "                filtall = (vtcROI_df[[\"StartNode\", \"EndNode\"]].isin([18, 19, 20, 21]))\n",
    "                \n",
    "                if len(vtcROI_df) > 0:\n",
    "                    name = subj + run + hemi\n",
    "                    if hemi == \"lh\":\n",
    "                        if i==[1]:\n",
    "                            lhpropFFA1toIPS0[name] = (len(vtcROI_df[filt18.sum(axis=1) > 0]) / len(vtcROI_df)) \n",
    "                            lhpropFFA1toIPS1[name] = (len(vtcROI_df[filt19.sum(axis=1) > 0]) / len(vtcROI_df))\n",
    "                            lhpropFFA1toIPSwhole[name] = (len(vtcROI_df[filtall.sum(axis=1) > 0]) / len(vtcROI_df))\n",
    "                            lhpropFFA1toIPS0or1[name] = (len(vtcROI_df[filt18or19.sum(axis=1) > 0]) / len(vtcROI_df))\n",
    "                        elif i==[2]:\n",
    "                            lhpropFFA2toIPS0[name] = (len(vtcROI_df[filt18.sum(axis=1) > 0]) / len(vtcROI_df))\n",
    "                            lhpropFFA2toIPS1[name] = (len(vtcROI_df[filt19.sum(axis=1) > 0]) / len(vtcROI_df))\n",
    "                            lhpropFFA2toIPSwhole[name] = (len(vtcROI_df[filtall.sum(axis=1) > 0]) / len(vtcROI_df))\n",
    "                            lhpropFFA2toIPS0or1[name] = (len(vtcROI_df[filt18or19.sum(axis=1) > 0]) / len(vtcROI_df))\n",
    "                        elif i==[3]:\n",
    "                            lhpropOFAtoIPS0[name] = (len(vtcROI_df[filt18.sum(axis=1) > 0]) / len(vtcROI_df))\n",
    "                            lhpropOFAtoIPS1[name] = (len(vtcROI_df[filt19.sum(axis=1) > 0]) / len(vtcROI_df))\n",
    "                            lhpropOFAtoIPSwhole[name] = (len(vtcROI_df[filtall.sum(axis=1) > 0]) / len(vtcROI_df))\n",
    "                            lhpropOFAtoIPS0or1[name] = (len(vtcROI_df[filt18or19.sum(axis=1) > 0]) / len(vtcROI_df))\n",
    "                    else:\n",
    "                        if i==[1]:\n",
    "                            rhpropFFA1toIPS0[name] = (len(vtcROI_df[filt18.sum(axis=1) > 0]) / len(vtcROI_df))\n",
    "                            rhpropFFA1toIPS1[name] = (len(vtcROI_df[filt19.sum(axis=1) > 0]) / len(vtcROI_df))\n",
    "                            rhpropFFA1toIPSwhole[name] = (len(vtcROI_df[filtall.sum(axis=1) > 0]) / len(vtcROI_df))\n",
    "                            rhpropFFA1toIPS0or1[name] = (len(vtcROI_df[filt18or19.sum(axis=1) > 0]) / len(vtcROI_df))\n",
    "                        elif i==[2]:\n",
    "                            rhpropFFA2toIPS0[name] = (len(vtcROI_df[filt18.sum(axis=1) > 0]) / len(vtcROI_df))\n",
    "                            rhpropFFA2toIPS1[name] = (len(vtcROI_df[filt19.sum(axis=1) > 0]) / len(vtcROI_df))\n",
    "                            rhpropFFA2toIPSwhole[name] = (len(vtcROI_df[filtall.sum(axis=1) > 0]) / len(vtcROI_df))\n",
    "                            rhpropFFA2toIPS0or1[name] = (len(vtcROI_df[filt18or19.sum(axis=1) > 0]) / len(vtcROI_df))\n",
    "                        elif i==[3]:\n",
    "                            rhpropOFAtoIPS0[name] = (len(vtcROI_df[filt18.sum(axis=1) > 0]) / len(vtcROI_df))\n",
    "                            rhpropOFAtoIPS1[name] = (len(vtcROI_df[filt19.sum(axis=1) > 0]) / len(vtcROI_df))\n",
    "                            rhpropOFAtoIPSwhole[name] = (len(vtcROI_df[filtall.sum(axis=1) > 0]) / len(vtcROI_df))\n",
    "                            rhpropOFAtoIPS0or1[name] = (len(vtcROI_df[filt18or19.sum(axis=1) > 0]) / len(vtcROI_df))\n",
    "                            \n",
    "                            "
   ]
  },
  {
   "cell_type": "code",
   "execution_count": 5,
   "id": "dc671fee-217a-4694-979b-09e93dddab71",
   "metadata": {},
   "outputs": [],
   "source": [
    "rhOFA = pd.DataFrame(rhpropOFAtoIPS0.items(), columns= [\"Names\", \"From OFA\"])\n",
    "rhFFA1 = pd.DataFrame(rhpropFFA1toIPS0.items(), columns= [\"Names\", \"From FFA1\"])\n",
    "rhFFA2 = pd.DataFrame(rhpropFFA2toIPS0.items(), columns= [\"Names\", \"From FFA2\"])\n",
    "\n",
    "lhOFA = pd.DataFrame(lhpropOFAtoIPS0.items(), columns= [\"Names\", \"From OFA\"])\n",
    "lhFFA1 = pd.DataFrame(lhpropFFA1toIPS0.items(), columns= [\"Names\", \"From FFA1\"])\n",
    "lhFFA2 = pd.DataFrame(lhpropFFA2toIPS0.items(), columns= [\"Names\", \"From FFA2\"])"
   ]
  },
  {
   "cell_type": "code",
   "execution_count": 22,
   "id": "8b16de5d",
   "metadata": {},
   "outputs": [],
   "source": [
    "rh = rhOFA.merge(rhFFA1, on=\"Names\").merge(rhFFA2, on=\"Names\")\n",
    "lh = lhOFA.merge(lhFFA1, on=\"Names\").merge(lhFFA2, on=\"Names\")"
   ]
  },
  {
   "cell_type": "code",
   "execution_count": 28,
   "id": "e72c581c",
   "metadata": {},
   "outputs": [
    {
     "name": "stdout",
     "output_type": "stream",
     "text": [
      "lh OFA v rh OFA:   Ttest_indResult(statistic=-0.9581761919429337, pvalue=0.34617496333644915)\n",
      "lh FFA1 v rh FFA1: Ttest_indResult(statistic=2.5544523327474575, pvalue=0.01636118242097141)\n",
      "lh FFA2 v rh FFA2: Ttest_indResult(statistic=1.0366015587816455, pvalue=0.3087914621840412)\n",
      "\n",
      "lh OFA v lh FFA1:  Ttest_indResult(statistic=-6.578844607625719, pvalue=5.625939068371177e-07)\n",
      "lh OFA v lh FFA2:  Ttest_indResult(statistic=-4.228648830020749, pvalue=0.0002569771823729462)\n",
      "lh FFA1 v lh FFA2: Ttest_indResult(statistic=3.3885777688700514, pvalue=0.0022486063953950056)\n",
      "\n",
      "rh OFA v rh FFA1:  Ttest_indResult(statistic=-1.760350941116555, pvalue=0.08854165969039003)\n",
      "rh OFA v rh FFA2:  Ttest_indResult(statistic=-1.8872399335768713, pvalue=0.06883740322395633)\n",
      "rh FFA1 v rh FFA2: Ttest_indResult(statistic=0.6782424446492578, pvalue=0.5028164126656376)\n"
     ]
    }
   ],
   "source": [
    "print(\"lh OFA v rh OFA:   \" + str(stats.ttest_ind(lh[\"From OFA\"], rh[\"From OFA\"])))\n",
    "print(\"lh FFA1 v rh FFA1: \" + str(stats.ttest_ind(lh[\"From FFA1\"], rh[\"From FFA1\"])))\n",
    "print(\"lh FFA2 v rh FFA2: \" + str(stats.ttest_ind(lh[\"From FFA2\"], rh[\"From FFA2\"])))\n",
    "print()\n",
    "print(\"lh OFA v lh FFA1:  \" + str(stats.ttest_ind(lh[\"From OFA\"], lh[\"From FFA1\"])))\n",
    "print(\"lh OFA v lh FFA2:  \" + str(stats.ttest_ind(lh[\"From OFA\"], lh[\"From FFA2\"])))\n",
    "print(\"lh FFA1 v lh FFA2: \" + str(stats.ttest_ind(lh[\"From FFA1\"], lh[\"From FFA2\"])))\n",
    "print()\n",
    "print(\"rh OFA v rh FFA1:  \" + str(stats.ttest_ind(rh[\"From OFA\"], rh[\"From FFA1\"])))\n",
    "print(\"rh OFA v rh FFA2:  \" + str(stats.ttest_ind(rh[\"From OFA\"], rh[\"From FFA2\"])))\n",
    "print(\"rh FFA1 v rh FFA2: \" + str(stats.ttest_ind(rh[\"From FFA1\"], rh[\"From FFA2\"])))"
   ]
  },
  {
   "cell_type": "code",
   "execution_count": 10,
   "id": "44ab4709-fd23-49e4-8149-1ec4edbf42ec",
   "metadata": {},
   "outputs": [
    {
     "data": {
      "image/png": "[encoded data removed]",
      "text/plain": [
       "<Figure size 640x480 with 1 Axes>"
      ]
     },
     "metadata": {},
     "output_type": "display_data"
    }
   ],
   "source": [
    "lh[[\"From OFA\", \"From FFA1\", \"From FFA2\"]].boxplot(grid=False)\n",
    "plt.ylabel(\"Proportion of Fibers\")\n",
    "plt.ylim([0, 0.09])\n",
    "plt.show()\n",
    "#plt.savefig(\"/home/naxos2-raid25/ahmad262/IPS-VTC-fWMT/data/figures/lhpropFibersToIPS0.svg\")"
   ]
  },
  {
   "cell_type": "code",
   "execution_count": null,
   "id": "6d5fa5e9",
   "metadata": {},
   "outputs": [],
   "source": []
  },
  {
   "cell_type": "code",
   "execution_count": 11,
   "id": "8b6eb405",
   "metadata": {},
   "outputs": [
    {
     "data": {
      "image/png": "[encoded data removed]",
      "text/plain": [
       "<Figure size 640x480 with 1 Axes>"
      ]
     },
     "metadata": {},
     "output_type": "display_data"
    }
   ],
   "source": [
    "rh[[\"From OFA\", \"From FFA1\", \"From FFA2\"]].boxplot(grid=False)\n",
    "plt.ylabel(\"Proportion of Fibers\")\n",
    "plt.ylim([0, 0.09])\n",
    "plt.show()\n",
    "#plt.savefig(\"/home/naxos2-raid25/ahmad262/IPS-VTC-fWMT/data/figures/rhpropFibersToIPS0.svg\")"
   ]
  },
  {
   "cell_type": "code",
   "execution_count": null,
   "id": "48d3b39f",
   "metadata": {},
   "outputs": [],
   "source": []
  },
  {
   "cell_type": "code",
   "execution_count": 37,
   "id": "5e60166d-573d-4875-8b4b-6d3e0a153948",
   "metadata": {},
   "outputs": [],
   "source": [
    "lhpropIPSwholeToVTCwhole = {}\n",
    "lhpropIPS0ToVTCwhole = {}\n",
    "lhpropIPS1ToVTCwhole = {}\n",
    "lhpropIPS0or1ToVTCwhole = {}\n",
    "\n",
    "rhpropIPSwholeToVTCwhole = {}\n",
    "rhpropIPS0ToVTCwhole = {}\n",
    "rhpropIPS1ToVTCwhole = {}\n",
    "rhpropIPS0or1ToVTCwhole = {}\n",
    "\n",
    "lhpropIPSwholeToOFA = {}\n",
    "lhpropIPS0ToOFA = {}\n",
    "lhpropIPS1ToOFA = {}\n",
    "lhpropIPS0or1ToOFA = {}\n",
    "\n",
    "rhpropIPSwholeToOFA = {}\n",
    "rhpropIPS0ToOFA = {}\n",
    "rhpropIPS1ToOFA = {}\n",
    "rhpropIPS0or1ToOFA = {}\n",
    "\n",
    "lhpropIPSwholeToFFA1 = {}\n",
    "lhpropIPS0ToFFA1 = {}\n",
    "lhpropIPS1ToFFA1 = {}\n",
    "lhpropIPS0or1ToFFA1 = {}\n",
    "\n",
    "rhpropIPSwholeToFFA1 = {}\n",
    "rhpropIPS0ToFFA1 = {}\n",
    "rhpropIPS1ToFFA1 = {}\n",
    "rhpropIPS0or1ToFFA1 = {}\n",
    "\n",
    "lhpropIPSwholeToFFA2 = {}\n",
    "lhpropIPS0ToFFA2 = {}\n",
    "lhpropIPS1ToFFA2 = {}\n",
    "lhpropIPS0or1ToFFA2 = {}\n",
    "\n",
    "rhpropIPSwholeToFFA2 = {}\n",
    "rhpropIPS0ToFFA2 = {}\n",
    "rhpropIPS1ToFFA2 = {}\n",
    "rhpropIPS0or1ToFFA2 = {}"
   ]
  },
  {
   "cell_type": "code",
   "execution_count": 38,
   "id": "af95f002-343d-4e5a-b23e-49207d1f3bf3",
   "metadata": {},
   "outputs": [],
   "source": [
    "# Proprotion of fibers from whole IPS to FFA1 vs FFA2 vs OFA\n",
    "for hemi in hemis:   \n",
    "    for i in [[18], [19], [18, 19], [18, 19, 20, 21]]:\n",
    "        for subj in subjects_list:\n",
    "            subj_dir = op.join(subjects_dir, subj)\n",
    "            for run in runs:\n",
    "                path = op.join(subjects_dir, subj, \"fyz\", run, hemi, \"all\", \"t>3\", \"track-merged\")\n",
    "                df = pd.read_csv(op.join(path, \"assignments.txt\"), delimiter = \" \", skiprows=1, header=None, names=[\"StartNode\", \"EndNode\"])\n",
    "                \n",
    "                \n",
    "                filt = (df[[\"StartNode\", \"EndNode\"]].isin(i))\n",
    "                IPSROI_df = df[filt.sum(axis=1) > 0]\n",
    "                filt1 =  (IPSROI_df[[\"StartNode\", \"EndNode\"]].isin([1]))\n",
    "                filt2 =  (IPSROI_df[[\"StartNode\", \"EndNode\"]].isin([2]))\n",
    "                filt3 =  (IPSROI_df[[\"StartNode\", \"EndNode\"]].isin([3]))\n",
    "                filtall = (IPSROI_df[[\"StartNode\", \"EndNode\"]].isin([1, 2, 3]))\n",
    "                \n",
    "                if len(vtcROI_df) > 0:\n",
    "                    name = subj + run + hemi\n",
    "                    if hemi == \"lh\":\n",
    "                        if i==[18]:\n",
    "                            lhpropIPS0ToVTCwhole[name] = (len(IPSROI_df[filtall.sum(axis=1) > 0]) / len(IPSROI_df)) \n",
    "                            lhpropIPS0ToOFA[name] = (len(IPSROI_df[filt1.sum(axis=1) > 0]) / len(IPSROI_df))\n",
    "                            lhpropIPS0ToFFA1[name] = (len(IPSROI_df[filt2.sum(axis=1) > 0]) / len(IPSROI_df))\n",
    "                            lhpropIPS0ToFFA2[name] = (len(IPSROI_df[filt3.sum(axis=1) > 0]) / len(IPSROI_df))\n",
    "\n",
    "                        elif i==[19]:\n",
    "                            lhpropIPS1ToVTCwhole[name] = (len(IPSROI_df[filtall.sum(axis=1) > 0]) / len(IPSROI_df))\n",
    "                            lhpropIPS1ToOFA[name] = (len(IPSROI_df[filt1.sum(axis=1) > 0]) / len(IPSROI_df))\n",
    "                            lhpropIPS1ToFFA1[name] = (len(IPSROI_df[filt2.sum(axis=1) > 0]) / len(IPSROI_df))\n",
    "                            lhpropIPS1ToFFA2[name] = (len(IPSROI_df[filt3.sum(axis=1) > 0]) / len(IPSROI_df))\n",
    "                            \n",
    "                        elif i==[18, 19]:\n",
    "                            lhpropIPS0or1ToVTCwhole[name] = (len(IPSROI_df[filtall.sum(axis=1) > 0]) / len(IPSROI_df))\n",
    "                            lhpropIPS0or1ToOFA[name] = (len(IPSROI_df[filt1.sum(axis=1) > 0]) / len(IPSROI_df))\n",
    "                            lhpropIPS0or1ToFFA1[name] = (len(IPSROI_df[filt2.sum(axis=1) > 0]) / len(IPSROI_df))\n",
    "                            lhpropIPS0or1ToFFA2[name] = (len(IPSROI_df[filt3.sum(axis=1) > 0]) / len(IPSROI_df))\n",
    "                        \n",
    "                        elif i==[18, 19, 20, 21]:\n",
    "                            lhpropIPSwholeToVTCwhole[name] = (len(IPSROI_df[filtall.sum(axis=1) > 0]) / len(IPSROI_df))\n",
    "                            lhpropIPSwholeToOFA[name] = (len(IPSROI_df[filt1.sum(axis=1) > 0]) / len(IPSROI_df))\n",
    "                            lhpropIPSwholeToFFA1[name] = (len(IPSROI_df[filt2.sum(axis=1) > 0]) / len(IPSROI_df))\n",
    "                            lhpropIPSwholeToFFA2[name] = (len(IPSROI_df[filt3.sum(axis=1) > 0]) / len(IPSROI_df))\n",
    "                            \n",
    "                    if hemi == \"rh\":\n",
    "                        if i==[18]:\n",
    "                            rhpropIPS0ToVTCwhole[name] = (len(IPSROI_df[filtall.sum(axis=1) > 0]) / len(IPSROI_df))\n",
    "                            rhpropIPS0ToOFA[name] = (len(IPSROI_df[filt1.sum(axis=1) > 0]) / len(IPSROI_df))\n",
    "                            rhpropIPS0ToFFA1[name] = (len(IPSROI_df[filt2.sum(axis=1) > 0]) / len(IPSROI_df))\n",
    "                            rhpropIPS0ToFFA2[name] = (len(IPSROI_df[filt3.sum(axis=1) > 0]) / len(IPSROI_df))\n",
    "\n",
    "                        elif i==[19]:\n",
    "                            rhpropIPS1ToVTCwhole[name] = (len(IPSROI_df[filtall.sum(axis=1) > 0]) / len(IPSROI_df))\n",
    "                            rhpropIPS1ToOFA[name] = (len(IPSROI_df[filt1.sum(axis=1) > 0]) / len(IPSROI_df))\n",
    "                            rhpropIPS1ToFFA1[name] = (len(IPSROI_df[filt2.sum(axis=1) > 0]) / len(IPSROI_df))\n",
    "                            rhpropIPS1ToFFA2[name] = (len(IPSROI_df[filt3.sum(axis=1) > 0]) / len(IPSROI_df))\n",
    "                            \n",
    "                        elif i==[18, 19]:\n",
    "                            rhpropIPS0or1ToVTCwhole[name] = (len(IPSROI_df[filtall.sum(axis=1) > 0]) / len(IPSROI_df))\n",
    "                            rhpropIPS0or1ToOFA[name] = (len(IPSROI_df[filt1.sum(axis=1) > 0]) / len(IPSROI_df))\n",
    "                            rhpropIPS0or1ToFFA1[name] = (len(IPSROI_df[filt2.sum(axis=1) > 0]) / len(IPSROI_df))\n",
    "                            rhpropIPS0or1ToFFA2[name] = (len(IPSROI_df[filt3.sum(axis=1) > 0]) / len(IPSROI_df))\n",
    "                        \n",
    "                        elif i==[18, 19, 20, 21]:\n",
    "                            rhpropIPSwholeToVTCwhole[name] = (len(IPSROI_df[filtall.sum(axis=1) > 0]) / len(IPSROI_df))\n",
    "                            rhpropIPSwholeToOFA[name] = (len(IPSROI_df[filt1.sum(axis=1) > 0]) / len(IPSROI_df))\n",
    "                            rhpropIPSwholeToFFA1[name] = (len(IPSROI_df[filt2.sum(axis=1) > 0]) / len(IPSROI_df))\n",
    "                            rhpropIPSwholeToFFA2[name] = (len(IPSROI_df[filt3.sum(axis=1) > 0]) / len(IPSROI_df))\n"
   ]
  },
  {
   "cell_type": "code",
   "execution_count": 40,
   "id": "21a5239b-a6fb-49df-9eab-ddc51188766a",
   "metadata": {},
   "outputs": [
    {
     "data": {
      "text/html": [
       "<div>\n",
       "<style scoped>\n",
       "    .dataframe tbody tr th:only-of-type {\n",
       "        vertical-align: middle;\n",
       "    }\n",
       "\n",
       "    .dataframe tbody tr th {\n",
       "        vertical-align: top;\n",
       "    }\n",
       "\n",
       "    .dataframe thead th {\n",
       "        text-align: right;\n",
       "    }\n",
       "</style>\n",
       "<table border=\"1\" class=\"dataframe\">\n",
       "  <thead>\n",
       "    <tr style=\"text-align: right;\">\n",
       "      <th></th>\n",
       "      <th>Names</th>\n",
       "      <th>ProportionOfAllFibers</th>\n",
       "    </tr>\n",
       "  </thead>\n",
       "  <tbody>\n",
       "    <tr>\n",
       "      <th>0</th>\n",
       "      <td>subj01run1rh</td>\n",
       "      <td>0.019015</td>\n",
       "    </tr>\n",
       "    <tr>\n",
       "      <th>1</th>\n",
       "      <td>subj01run2rh</td>\n",
       "      <td>0.018242</td>\n",
       "    </tr>\n",
       "    <tr>\n",
       "      <th>2</th>\n",
       "      <td>subj02run1rh</td>\n",
       "      <td>0.039766</td>\n",
       "    </tr>\n",
       "    <tr>\n",
       "      <th>3</th>\n",
       "      <td>subj02run2rh</td>\n",
       "      <td>0.041955</td>\n",
       "    </tr>\n",
       "  </tbody>\n",
       "</table>\n",
       "</div>"
      ],
      "text/plain": [
       "          Names  ProportionOfAllFibers\n",
       "0  subj01run1rh               0.019015\n",
       "1  subj01run2rh               0.018242\n",
       "2  subj02run1rh               0.039766\n",
       "3  subj02run2rh               0.041955"
      ]
     },
     "execution_count": 40,
     "metadata": {},
     "output_type": "execute_result"
    }
   ],
   "source": [
    "pd.DataFrame(rhpropIPSwholeToVTCwhole.items(), columns= [\"Names\", \"ProportionOfAllFibers\"])"
   ]
  },
  {
   "cell_type": "code",
   "execution_count": null,
   "id": "5f5427c6-13fd-4005-9a47-e8945cf58357",
   "metadata": {},
   "outputs": [],
   "source": []
  }
 ],
 "metadata": {
  "kernelspec": {
   "display_name": "Python 3 (ipykernel)",
   "language": "python",
   "name": "python3"
  },
  "language_info": {
   "codemirror_mode": {
    "name": "ipython",
    "version": 3
   },
   "file_extension": ".py",
   "mimetype": "text/x-python",
   "name": "python",
   "nbconvert_exporter": "python",
   "pygments_lexer": "ipython3",
   "version": "3.11.0"
  }
 },
 "nbformat": 4,
 "nbformat_minor": 5
}
