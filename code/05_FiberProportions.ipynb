{
 "cells": [
  {
   "cell_type": "code",
   "execution_count": 2,
   "id": "0012f9d8-6e79-482a-814a-590c57de29ee",
   "metadata": {},
   "outputs": [],
   "source": [
    "import os.path as op\n",
    "import numpy as np\n",
    "import pandas as pd\n",
    "import matplotlib.pyplot as plt"
   ]
  },
  {
   "cell_type": "code",
   "execution_count": 23,
   "id": "de6b6dc6-9e97-4d3b-ac45-9338752ba1fd",
   "metadata": {},
   "outputs": [],
   "source": [
    "subjects_dir = \"/Applications/freesurfer/7.3.2/subjects\"\n",
    "# subjects_list = [\"subj01\", \"subj02\", \"subj03\", \"subj04\", \"subj05\", \"subj06\", \"subj07\", \"subj08\", \"subj09\", \"subj10\"]\n",
    "subjects_list = [\"subj01\", \"subj02\"]\n",
    "hemis = [\"lh\", \"rh\"]\n",
    "runs = [\"run1\", \"run2\"]"
   ]
  },
  {
   "cell_type": "code",
   "execution_count": 30,
   "id": "548d2393-d149-47aa-9e06-2cfbe2371077",
   "metadata": {},
   "outputs": [],
   "source": [
    "lhpropFFA1toIPS0 = {}\n",
    "lhpropFFA1toIPS1 = {}\n",
    "lhpropFFA1toIPSwhole = {}\n",
    "\n",
    "lhpropFFA2toIPS0 = {}\n",
    "lhpropFFA2toIPS1 = {}\n",
    "lhpropFFA2toIPSwhole = {}\n",
    "\n",
    "lhpropOFAtoIPS0 = {}\n",
    "lhpropOFAtoIPS1 = {}\n",
    "lhpropOFAtoIPSwhole = {}\n",
    "\n",
    "rhpropFFA1toIPS0 = {}\n",
    "rhpropFFA1toIPS1 = {}\n",
    "rhpropFFA1toIPSwhole = {}\n",
    "\n",
    "rhpropFFA2toIPS0 = {}\n",
    "rhpropFFA2toIPS1 = {}\n",
    "rhpropFFA2toIPSwhole = {}\n",
    "\n",
    "rhpropOFAtoIPS0 = {}\n",
    "rhpropOFAtoIPS1 = {}\n",
    "rhpropOFAtoIPSwhole = {}"
   ]
  },
  {
   "cell_type": "code",
   "execution_count": 31,
   "id": "fe824f73-3775-4993-b394-307b1d4cfec2",
   "metadata": {},
   "outputs": [],
   "source": [
    "for hemi in hemis:   \n",
    "    for i in [1, 2, 3]:\n",
    "        for subj in subjects_list:\n",
    "            subj_dir = op.join(subjects_dir, subj)\n",
    "            for run in runs:\n",
    "                path = op.join(subjects_dir, subj, \"fyz\", run, hemi, \"all\", \"t>3\", \"track-merged\")\n",
    "                df = pd.read_csv(op.join(path, \"assignments.txt\"), delimiter = \" \", skiprows=1, header=None, names=[\"StartNode\", \"EndNode\"])\n",
    "                \n",
    "                \n",
    "                filt = (df[[\"StartNode\", \"EndNode\"]] == i)\n",
    "                vtcROI_df = df[filt.sum(axis=1) > 0]\n",
    "                filt18 =  (vtcROI_df[[\"StartNode\", \"EndNode\"]].isin([18]))\n",
    "                filt19 =  (vtcROI_df[[\"StartNode\", \"EndNode\"]].isin([19]))\n",
    "                filtall = (vtcROI_df[[\"StartNode\", \"EndNode\"]].isin([18, 19, 20, 21]))\n",
    "                \n",
    "                if len(vtcROI_df) > 0:\n",
    "                    name = subj + run\n",
    "                    if hemi == \"lh\":\n",
    "                        if i==1:\n",
    "                            lhpropFFA1toIPS0[name] = (len(vtcROI_df[filt18.sum(axis=1) > 0]) / len(vtcROI_df))\n",
    "                            lhpropFFA1toIPS1[name] = (len(vtcROI_df[filt19.sum(axis=1) > 0]) / len(vtcROI_df))\n",
    "                            lhpropFFA1toIPSwhole[name] = (len(vtcROI_df[filtall.sum(axis=1) > 0]) / len(vtcROI_df))\n",
    "                        elif i==2:\n",
    "                            lhpropFFA2toIPS0[name] = (len(vtcROI_df[filt18.sum(axis=1) > 0]) / len(vtcROI_df))\n",
    "                            lhpropFFA2toIPS1[name] = (len(vtcROI_df[filt19.sum(axis=1) > 0]) / len(vtcROI_df))\n",
    "                            lhpropFFA2toIPSwhole[name] = (len(vtcROI_df[filtall.sum(axis=1) > 0]) / len(vtcROI_df))\n",
    "                        else:\n",
    "                            lhpropOFAtoIPS0[name] = (len(vtcROI_df[filt18.sum(axis=1) > 0]) / len(vtcROI_df))\n",
    "                            lhpropOFAtoIPS1[name] = (len(vtcROI_df[filt19.sum(axis=1) > 0]) / len(vtcROI_df))\n",
    "                            lhpropOFAtoIPSwhole[name] = (len(vtcROI_df[filtall.sum(axis=1) > 0]) / len(vtcROI_df))\n",
    "                    else:\n",
    "                        if i==1:\n",
    "                            rhpropFFA1toIPS0[name] = (len(vtcROI_df[filt18.sum(axis=1) > 0]) / len(vtcROI_df))\n",
    "                            rhpropFFA1toIPS1[name] = (len(vtcROI_df[filt19.sum(axis=1) > 0]) / len(vtcROI_df))\n",
    "                            rhpropFFA1toIPSwhole[name] = (len(vtcROI_df[filtall.sum(axis=1) > 0]) / len(vtcROI_df))\n",
    "                        elif i==2:\n",
    "                            rhpropFFA2toIPS0[name] = (len(vtcROI_df[filt18.sum(axis=1) > 0]) / len(vtcROI_df))\n",
    "                            rhpropFFA2toIPS1[name] = (len(vtcROI_df[filt19.sum(axis=1) > 0]) / len(vtcROI_df))\n",
    "                            rhpropFFA2toIPSwhole[name] = (len(vtcROI_df[filtall.sum(axis=1) > 0]) / len(vtcROI_df))\n",
    "                        else:\n",
    "                            rhpropOFAtoIPS0[name] = (len(vtcROI_df[filt18.sum(axis=1) > 0]) / len(vtcROI_df))\n",
    "                            rhpropOFAtoIPS1[name] = (len(vtcROI_df[filt19.sum(axis=1) > 0]) / len(vtcROI_df))\n",
    "                            rhpropOFAtoIPSwhole[name] = (len(vtcROI_df[filtall.sum(axis=1) > 0]) / len(vtcROI_df))\n",
    "                            \n",
    "                            "
   ]
  },
  {
   "cell_type": "code",
   "execution_count": 45,
   "id": "dc671fee-217a-4694-979b-09e93dddab71",
   "metadata": {},
   "outputs": [
    {
     "data": {
      "text/html": [
       "<div>\n",
       "<style scoped>\n",
       "    .dataframe tbody tr th:only-of-type {\n",
       "        vertical-align: middle;\n",
       "    }\n",
       "\n",
       "    .dataframe tbody tr th {\n",
       "        vertical-align: top;\n",
       "    }\n",
       "\n",
       "    .dataframe thead th {\n",
       "        text-align: right;\n",
       "    }\n",
       "</style>\n",
       "<table border=\"1\" class=\"dataframe\">\n",
       "  <thead>\n",
       "    <tr style=\"text-align: right;\">\n",
       "      <th></th>\n",
       "      <th>Names</th>\n",
       "      <th>ProportionOfAllFibers</th>\n",
       "    </tr>\n",
       "  </thead>\n",
       "  <tbody>\n",
       "    <tr>\n",
       "      <th>0</th>\n",
       "      <td>subj01run1</td>\n",
       "      <td>0.004708</td>\n",
       "    </tr>\n",
       "    <tr>\n",
       "      <th>1</th>\n",
       "      <td>subj01run2</td>\n",
       "      <td>0.004972</td>\n",
       "    </tr>\n",
       "    <tr>\n",
       "      <th>2</th>\n",
       "      <td>subj02run1</td>\n",
       "      <td>0.008825</td>\n",
       "    </tr>\n",
       "    <tr>\n",
       "      <th>3</th>\n",
       "      <td>subj02run2</td>\n",
       "      <td>0.009340</td>\n",
       "    </tr>\n",
       "  </tbody>\n",
       "</table>\n",
       "</div>"
      ],
      "text/plain": [
       "        Names  ProportionOfAllFibers\n",
       "0  subj01run1               0.004708\n",
       "1  subj01run2               0.004972\n",
       "2  subj02run1               0.008825\n",
       "3  subj02run2               0.009340"
      ]
     },
     "execution_count": 45,
     "metadata": {},
     "output_type": "execute_result"
    }
   ],
   "source": [
    "pd.DataFrame(rhpropOFAtoIPS1.items(), columns= [\"Names\", \"ProportionOfAllFibers\"])"
   ]
  },
  {
   "cell_type": "code",
   "execution_count": 21,
   "id": "44ab4709-fd23-49e4-8149-1ec4edbf42ec",
   "metadata": {},
   "outputs": [
    {
     "data": {
      "text/plain": [
       "0.022432189227407123"
      ]
     },
     "execution_count": 21,
     "metadata": {},
     "output_type": "execute_result"
    }
   ],
   "source": [
    "# Proportion of fiber from FFA1/2/OFA to IPS individually (and whole) -- tests\n",
    "# We essentially want to put these results into a nice data table that we can then perform statistical tests/generate plots with\n",
    "\n",
    "path = op.join(subjects_dir, \"subj01\", \"fyz\", \"run1\", \"rh\", \"all\", \"t>3\", \"track-merged\")\n",
    "df = pd.read_csv(op.join(path, \"assignments.txt\"), delimiter = \" \", skiprows=1, header=None, names=[\"StartNode\", \"EndNode\"])\n",
    "\n",
    "filt = (df[[\"StartNode\", \"EndNode\"]] == 1)\n",
    "FFA1_df = df[filt.sum(axis=1) > 0]\n",
    "FFA1_df\n",
    "\n",
    "\n",
    "filt2 =  (FFA1_df[[\"StartNode\", \"EndNode\"]].isin([18, 19, 20, 21]))\n",
    "len(FFA1_df[filt2.sum(axis=1) > 0]) / len(FFA1_df)"
   ]
  },
  {
   "cell_type": "code",
   "execution_count": null,
   "id": "af95f002-343d-4e5a-b23e-49207d1f3bf3",
   "metadata": {},
   "outputs": [],
   "source": [
    "# Proprotion of fibers from whole IPS to FFA1 vs FFA2 vs OFA"
   ]
  },
  {
   "cell_type": "code",
   "execution_count": null,
   "id": "21a5239b-a6fb-49df-9eab-ddc51188766a",
   "metadata": {},
   "outputs": [],
   "source": []
  },
  {
   "cell_type": "code",
   "execution_count": null,
   "id": "5f5427c6-13fd-4005-9a47-e8945cf58357",
   "metadata": {},
   "outputs": [],
   "source": []
  }
 ],
 "metadata": {
  "kernelspec": {
   "display_name": "Python 3 (ipykernel)",
   "language": "python",
   "name": "python3"
  },
  "language_info": {
   "codemirror_mode": {
    "name": "ipython",
    "version": 3
   },
   "file_extension": ".py",
   "mimetype": "text/x-python",
   "name": "python",
   "nbconvert_exporter": "python",
   "pygments_lexer": "ipython3",
   "version": "3.11.0"
  }
 },
 "nbformat": 4,
 "nbformat_minor": 5
}
