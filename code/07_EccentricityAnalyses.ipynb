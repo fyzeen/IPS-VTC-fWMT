{
 "cells": [
  {
   "cell_type": "code",
   "execution_count": 1,
   "id": "82ee3797-29e0-4d50-9dbc-a3bc75cc812f",
   "metadata": {},
   "outputs": [],
   "source": [
    "from utils.streamline_to_surface_utils import *\n",
    "from utils.surface_label_utils import *\n",
    "import os.path as op\n",
    "import numpy as np\n",
    "import pandas as pd\n",
    "import matplotlib.pyplot as plt"
   ]
  },
  {
   "cell_type": "code",
   "execution_count": 39,
   "id": "57c81654-d832-4526-bd1d-df2f065f024a",
   "metadata": {},
   "outputs": [],
   "source": [
    "#subjects_dir = \"/home/naxos2-raid25/ahmad262/IPS-VTC-fWMT/data/freesurfer\"\n",
    "# subjects_list = [\"subj01\", \"subj02\", \"subj03\", \"subj04\", \"subj05\", \"subj06\", \"subj07\", \"subj08\", \"subj09\", \"subj10\"]\n",
    "subjects_dir = \"/Applications/freesurfer/7.3.2/subjects\"\n",
    "subjects_list = [\"subj01\", \"subj02\"]\n",
    "hemis = [\"lh\", \"rh\"]\n",
    "runs = [\"run1\", \"run2\"]\n",
    "floc_faces_labels = {1: \"OFA\", 2: \"FFA1\", 3: \"FFA2\"}"
   ]
  },
  {
   "cell_type": "code",
   "execution_count": 59,
   "id": "0c777d3b",
   "metadata": {},
   "outputs": [],
   "source": [
    "# Create 9 dataframes that contain endpoint proportions by eccentricity about all subjects/run (each row):\n",
    "    # Separated by hemisphere\n",
    "    # OFA -> IPS0, OFA -> IPS1, OFA -> IPS0/1\n",
    "    # FFA1 -> ...\n",
    "    # FFA2 -> ...\n",
    "    \n",
    "lhOFAtoIPS0or1 = pd.DataFrame(data=np.arange(0, 6.5, 0.5), columns=[\"Eccentricity\"])\n",
    "lhOFAtoIPS0 = pd.DataFrame(data=np.arange(0, 6.5, 0.5), columns=[\"Eccentricity\"])\n",
    "lhOFAtoIPS1 = pd.DataFrame(data=np.arange(0, 6.5, 0.5), columns=[\"Eccentricity\"])\n",
    "\n",
    "lhFFA1toIPS0or1 = pd.DataFrame(data=np.arange(0, 6.5, 0.5), columns=[\"Eccentricity\"])\n",
    "lhFFA1toIPS0 = pd.DataFrame(data=np.arange(0, 6.5, 0.5), columns=[\"Eccentricity\"])\n",
    "lhFFA1toIPS1 = pd.DataFrame(data=np.arange(0, 6.5, 0.5), columns=[\"Eccentricity\"])\n",
    "\n",
    "lhFFA2toIPS0or1 = pd.DataFrame(data=np.arange(0, 6.5, 0.5), columns=[\"Eccentricity\"])\n",
    "lhFFA2toIPS0 = pd.DataFrame(data=np.arange(0, 6.5, 0.5), columns=[\"Eccentricity\"])\n",
    "lhFFA2toIPS1 = pd.DataFrame(data=np.arange(0, 6.5, 0.5), columns=[\"Eccentricity\"])\n",
    "\n",
    "rhOFAtoIPS0or1 = pd.DataFrame(data=np.arange(0, 6.5, 0.5), columns=[\"Eccentricity\"])\n",
    "rhOFAtoIPS0 = pd.DataFrame(data=np.arange(0, 6.5, 0.5), columns=[\"Eccentricity\"])\n",
    "rhOFAtoIPS1 = pd.DataFrame(data=np.arange(0, 6.5, 0.5), columns=[\"Eccentricity\"])\n",
    "\n",
    "rhFFA1toIPS0or1 = pd.DataFrame(data=np.arange(0, 6.5, 0.5), columns=[\"Eccentricity\"])\n",
    "rhFFA1toIPS0 = pd.DataFrame(data=np.arange(0, 6.5, 0.5), columns=[\"Eccentricity\"])\n",
    "rhFFA1toIPS1 = pd.DataFrame(data=np.arange(0, 6.5, 0.5), columns=[\"Eccentricity\"])\n",
    "\n",
    "rhFFA2toIPS0or1 = pd.DataFrame(data=np.arange(0, 6.5, 0.5), columns=[\"Eccentricity\"])\n",
    "rhFFA2toIPS0 = pd.DataFrame(data=np.arange(0, 6.5, 0.5), columns=[\"Eccentricity\"])\n",
    "rhFFA2toIPS1 = pd.DataFrame(data=np.arange(0, 6.5, 0.5), columns=[\"Eccentricity\"])"
   ]
  },
  {
   "cell_type": "code",
   "execution_count": 60,
   "id": "54f34df9-586e-494c-9b8a-eedf28e0289f",
   "metadata": {},
   "outputs": [
    {
     "name": "stdout",
     "output_type": "stream",
     "text": [
      "Writing to: /Applications/freesurfer/7.3.2/subjects/subj01/fyz/run1/lh/all/t>3/track-merged/node1-18.endpoints.IPS-intersected.withIPS1.mgz\n",
      "Writing to: /Applications/freesurfer/7.3.2/subjects/subj01/fyz/run1/lh/all/t>3/track-merged/node2-18.endpoints.IPS-intersected.withIPS1.mgz\n",
      "Writing to: /Applications/freesurfer/7.3.2/subjects/subj01/fyz/run2/lh/all/t>3/track-merged/node1-18.endpoints.IPS-intersected.withIPS1.mgz\n",
      "Writing to: /Applications/freesurfer/7.3.2/subjects/subj01/fyz/run2/lh/all/t>3/track-merged/node2-18.endpoints.IPS-intersected.withIPS1.mgz\n",
      "Writing to: /Applications/freesurfer/7.3.2/subjects/subj01/fyz/run1/rh/all/t>3/track-merged/node1-18.endpoints.IPS-intersected.withIPS1.mgz\n",
      "Writing to: /Applications/freesurfer/7.3.2/subjects/subj01/fyz/run1/rh/all/t>3/track-merged/node2-18.endpoints.IPS-intersected.withIPS1.mgz\n",
      "Writing to: /Applications/freesurfer/7.3.2/subjects/subj01/fyz/run1/rh/all/t>3/track-merged/node3-18.endpoints.IPS-intersected.withIPS1.mgz\n",
      "Writing to: /Applications/freesurfer/7.3.2/subjects/subj01/fyz/run2/rh/all/t>3/track-merged/node1-18.endpoints.IPS-intersected.withIPS1.mgz\n",
      "Writing to: /Applications/freesurfer/7.3.2/subjects/subj01/fyz/run2/rh/all/t>3/track-merged/node2-18.endpoints.IPS-intersected.withIPS1.mgz\n",
      "Writing to: /Applications/freesurfer/7.3.2/subjects/subj01/fyz/run2/rh/all/t>3/track-merged/node3-18.endpoints.IPS-intersected.withIPS1.mgz\n",
      "Writing to: /Applications/freesurfer/7.3.2/subjects/subj02/fyz/run1/lh/all/t>3/track-merged/node1-18.endpoints.IPS-intersected.withIPS1.mgz\n",
      "Writing to: /Applications/freesurfer/7.3.2/subjects/subj02/fyz/run1/lh/all/t>3/track-merged/node2-18.endpoints.IPS-intersected.withIPS1.mgz\n",
      "Writing to: /Applications/freesurfer/7.3.2/subjects/subj02/fyz/run1/lh/all/t>3/track-merged/node3-18.endpoints.IPS-intersected.withIPS1.mgz\n",
      "Writing to: /Applications/freesurfer/7.3.2/subjects/subj02/fyz/run2/lh/all/t>3/track-merged/node1-18.endpoints.IPS-intersected.withIPS1.mgz\n",
      "Writing to: /Applications/freesurfer/7.3.2/subjects/subj02/fyz/run2/lh/all/t>3/track-merged/node2-18.endpoints.IPS-intersected.withIPS1.mgz\n",
      "Writing to: /Applications/freesurfer/7.3.2/subjects/subj02/fyz/run2/lh/all/t>3/track-merged/node3-18.endpoints.IPS-intersected.withIPS1.mgz\n",
      "Writing to: /Applications/freesurfer/7.3.2/subjects/subj02/fyz/run1/rh/all/t>3/track-merged/node1-18.endpoints.IPS-intersected.withIPS1.mgz\n",
      "Writing to: /Applications/freesurfer/7.3.2/subjects/subj02/fyz/run1/rh/all/t>3/track-merged/node2-18.endpoints.IPS-intersected.withIPS1.mgz\n",
      "Writing to: /Applications/freesurfer/7.3.2/subjects/subj02/fyz/run1/rh/all/t>3/track-merged/node3-18.endpoints.IPS-intersected.withIPS1.mgz\n",
      "Writing to: /Applications/freesurfer/7.3.2/subjects/subj02/fyz/run2/rh/all/t>3/track-merged/node1-18.endpoints.IPS-intersected.withIPS1.mgz\n",
      "Writing to: /Applications/freesurfer/7.3.2/subjects/subj02/fyz/run2/rh/all/t>3/track-merged/node2-18.endpoints.IPS-intersected.withIPS1.mgz\n",
      "Writing to: /Applications/freesurfer/7.3.2/subjects/subj02/fyz/run2/rh/all/t>3/track-merged/node3-18.endpoints.IPS-intersected.withIPS1.mgz\n"
     ]
    }
   ],
   "source": [
    "### Need to develop method to store proportion by eccentricity \n",
    "# Subj/run/hemi -> 0-1 1-2 2-3 3-4 4-5 5-6+ or by 0.5s?\n",
    "\n",
    "# 1 table for each VTC ROI: FFA1 to IPS0/1; FFA2 to IPS0/1; OFA to IPS0/1\n",
    "for subj in subjects_list:\n",
    "    subj_dir = op.join(subjects_dir, subj)\n",
    "    for hemi in hemis:\n",
    "        for run in runs:\n",
    "            floc_faces_path = op.join(subj_dir, \"fyz\", \"anatomy\", f\"{hemi}-rois\", \"all\", \"floc-faces\", \"t>0\", f\"{hemi}.floc-faces.subsetted.mgz\")\n",
    "            available_ROIs, available_ROINums = available_floc_rois(floc_faces_path)\n",
    "            for start in available_ROINums:   \n",
    "                prf_label = op.join(subjects_dir, subj, \"label\", hemi + \".prfeccentricity.mgz\") # use smoothed eccentricity map\n",
    "\n",
    "                endpoints_to_IPS0 = op.join(subjects_dir, subj, \"fyz\", run, hemi, \"all\", \"t>3\", \"track-merged\", \n",
    "                        f\"node{int(start)}-18.endpoints.IPS-intersected.mgz\") # instead of IPS intersected, this may be \".cleaned.mgz\"\n",
    "                endpoints_to_IPS1 = op.join(subjects_dir, subj, \"fyz\", run, hemi, \"all\", \"t>3\", \"track-merged\", \n",
    "                                        f\"node{int(start)}-19.endpoints.IPS-intersected.mgz\") # instead of IPS intersected, this may be \".cleaned.mgz\"\n",
    "\n",
    "                concat_surflabels(endpoints_to_IPS0, endpoints_to_IPS1, write_file=True, \n",
    "                                out_path=op.join(subjects_dir, subj, \"fyz\", run, hemi, \"all\", \"t>3\", \"track-merged\"), \n",
    "                                change_label=\"withIPS1\")\n",
    "                endpoints_to_IPS0or1 = op.join(subjects_dir, subj, \"fyz\", run, hemi, \"all\", \"t>3\", \"track-merged\", \n",
    "                                        f\"node{int(start)}-18.endpoints.IPS-intersected.withIPS1.mgz\")\n",
    "                \n",
    "                startToIPS0or1, startToIPS0or1Count = label_endpoints_with_pRF_property(prf_label, endpoints_to_IPS0or1)\n",
    "                startToIPS0, startToIPS0Count = label_endpoints_with_pRF_property(prf_label, endpoints_to_IPS0)\n",
    "                startToIPS1, startToIPS1Count = label_endpoints_with_pRF_property(prf_label, endpoints_to_IPS1)\n",
    "\n",
    "                for items in [[startToIPS0or1, startToIPS0or1Count, \"IPS0or1\"], [startToIPS0, startToIPS0Count, \"IPS0\"], [startToIPS1, startToIPS1Count, \"IPS1\"]]:\n",
    "                    propStreamlinesSubj = f\"propStreamlines{subj}{run}\"\n",
    "                    df = pd.DataFrame(items[0], columns=[\"Eccentricity\", propStreamlinesSubj])\n",
    "                    \n",
    "                    dfwithEndpoints = df[df[propStreamlinesSubj] > 0]\n",
    "                    dfReasonable = dfwithEndpoints[dfwithEndpoints[\"Eccentricity\"] < 6.25] # 6.25 because rounding to nearest 0.5\n",
    "                    dfReasonable = (dfReasonable*2).round()/2 # rounding to neatest 0.5\n",
    "                    dfReasonable = dfReasonable.groupby(\"Eccentricity\").sum().reset_index()\n",
    "                    dfReasonable[propStreamlinesSubj] = dfReasonable[propStreamlinesSubj] / items[1] # puts everything into proportions\n",
    "                    \n",
    "                    # Selectively merge with correct dataframe -- THIS ISNT WORKING...\n",
    "                    vars()[f\"{hemi}{floc_faces_labels[int(start)]}to{items[2]}\"] = vars()[f\"{hemi}{floc_faces_labels[int(start)]}to{items[2]}\"].merge(dfReasonable, on=\"Eccentricity\", how=\"outer\")\n",
    "                    "
   ]
  },
  {
   "cell_type": "code",
   "execution_count": 217,
   "id": "7faf63ef-e36f-4cbe-b5bd-efa619306368",
   "metadata": {},
   "outputs": [],
   "source": [
    "transpose = lhOFAtoIPS0.transpose()\n",
    "transpose = transpose.rename(columns=transpose.iloc[0])[1:]"
   ]
  },
  {
   "cell_type": "code",
   "execution_count": 218,
   "id": "d076eb2d-e1f6-444e-8b2a-898f9eb4d6ac",
   "metadata": {},
   "outputs": [
    {
     "data": {
      "image/png": "[encoded data removed]",
      "text/plain": [
       "<Figure size 432x288 with 1 Axes>"
      ]
     },
     "metadata": {
      "needs_background": "light"
     },
     "output_type": "display_data"
    }
   ],
   "source": [
    "#transpose.boxplot(grid=False)\n",
    "plt.boxplot(transpose)\n",
    "plt.xlabel(\"Eccentricity\")\n",
    "plt.ylabel(\"Proportion of Fiber Endpoints\")\n",
    "plt.scatter(transpose.melt()[\"variable\"]*2+1, transpose.melt()[\"value\"], marker=\".\", alpha=0.5)\n",
    "plt.show()"
   ]
  },
  {
   "cell_type": "code",
   "execution_count": 187,
   "id": "9184b2a3-9430-4a81-b407-cf60f5b0581b",
   "metadata": {},
   "outputs": [
    {
     "data": {
      "text/plain": [
       "0     0.0\n",
       "1     0.0\n",
       "2     0.0\n",
       "3     0.0\n",
       "4     0.5\n",
       "5     0.5\n",
       "6     0.5\n",
       "7     0.5\n",
       "8     1.0\n",
       "9     1.0\n",
       "10    1.0\n",
       "11    1.0\n",
       "12    1.5\n",
       "13    1.5\n",
       "14    1.5\n",
       "15    1.5\n",
       "16    2.0\n",
       "17    2.0\n",
       "18    2.0\n",
       "19    2.0\n",
       "20    2.5\n",
       "21    2.5\n",
       "22    2.5\n",
       "23    2.5\n",
       "24    3.0\n",
       "25    3.0\n",
       "26    3.0\n",
       "27    3.0\n",
       "28    3.5\n",
       "29    3.5\n",
       "30    3.5\n",
       "31    3.5\n",
       "32    4.0\n",
       "33    4.0\n",
       "34    4.0\n",
       "35    4.0\n",
       "36    4.5\n",
       "37    4.5\n",
       "38    4.5\n",
       "39    4.5\n",
       "40    5.0\n",
       "41    5.0\n",
       "42    5.0\n",
       "43    5.0\n",
       "44    5.5\n",
       "45    5.5\n",
       "46    5.5\n",
       "47    5.5\n",
       "48    6.0\n",
       "49    6.0\n",
       "50    6.0\n",
       "51    6.0\n",
       "Name: variable, dtype: float64"
      ]
     },
     "execution_count": 187,
     "metadata": {},
     "output_type": "execute_result"
    }
   ],
   "source": [
    "transpose.melt()[\"variable\"]"
   ]
  },
  {
   "cell_type": "code",
   "execution_count": null,
   "id": "4e4d2061-03e6-4025-9289-2b871ec225ae",
   "metadata": {},
   "outputs": [],
   "source": []
  },
  {
   "cell_type": "code",
   "execution_count": null,
   "id": "2180e2a4-3755-4f4f-a18a-37bc445bed59",
   "metadata": {},
   "outputs": [],
   "source": []
  },
  {
   "cell_type": "code",
   "execution_count": 9,
   "id": "77ff0d17-14e8-488a-bb02-28aa9d49e57b",
   "metadata": {},
   "outputs": [
    {
     "name": "stdout",
     "output_type": "stream",
     "text": [
      "Writing to: /Applications/freesurfer/7.3.2/subjects/subj02/fyz/run1/rh/all/t>3/track-merged/node2-18.endpoints.IPS-intersected.withIPS1.mgz\n"
     ]
    }
   ],
   "source": [
    "## DUE TO LOW IPS2/3 variance explained by pRF model, we constrain our analysis to IPS0/1 ##\n",
    "\n",
    "# FFA1 vs FFA2 vs OFA to IPS0/1\n",
    "subj = \"subj02\"\n",
    "run = \"run1\"\n",
    "hemi = \"rh\"\n",
    "start = 2 # iterate through 1,2,3\n",
    "\n",
    "\n",
    "prf_label = op.join(subjects_dir, subj, \"label\", hemi + \".prfeccentricity.mgz\") # use smoothed eccentricity map\n",
    "endpoints_to_IPS0 = op.join(subjects_dir, subj, \"fyz\", run, hemi, \"all\", \"t>3\", \"track-merged\", \n",
    "                          f\"node{start}-18.endpoints.IPS-intersected.mgz\")\n",
    "endpoints_to_IPS1 = op.join(subjects_dir, subj, \"fyz\", run, hemi, \"all\", \"t>3\", \"track-merged\", \n",
    "                          f\"node{start}-19.endpoints.IPS-intersected.mgz\")\n",
    "\n",
    "concat_surflabels(endpoints_to_IPS0, endpoints_to_IPS1, write_file=True, \n",
    "                  out_path=op.join(subjects_dir, subj, \"fyz\", run, hemi, \"all\", \"t>3\", \"track-merged\"), \n",
    "                  change_label=\"withIPS1\")\n",
    "endpoints_path = op.join(subjects_dir, subj, \"fyz\", run, hemi, \"all\", \"t>3\", \"track-merged\", \n",
    "                         f\"node{start}-18.endpoints.IPS-intersected.withIPS1.mgz\")\n",
    "\n",
    "\n",
    "out = label_endpoints_with_pRF_property(prf_label, endpoints_path)"
   ]
  },
  {
   "cell_type": "code",
   "execution_count": 10,
   "id": "c426988d-fc42-4d78-ac27-752cfd00ba72",
   "metadata": {},
   "outputs": [],
   "source": [
    "df = pd.DataFrame(out[0], columns=[\"Eccentricity\", \"NumberStreamlines\"])\n",
    "\n",
    "dfwithEndpoints = df[df[\"NumberStreamlines\"] > 0]\n",
    "\n",
    "dfReasonable = dfwithEndpoints[dfwithEndpoints[\"Eccentricity\"] < 6.25] # 6.25 because we are rounding to nearest half\n",
    "# Rounding to nearest 0.5\n",
    "dfReasonable = (dfReasonable*2).round()/2\n",
    "dfReasonable = dfReasonable.groupby(\"Eccentricity\").sum().reset_index()\n",
    "dfReasonable[\"NumberStreamlines\"] = dfReasonable[\"NumberStreamlines\"] / out[1]\n",
    "\n",
    "#print(dfReasonable)\n",
    "#plt.bar(dfReasonable[\"Eccentricity\"], dfReasonable[\"NumberStreamlines\"])"
   ]
  },
  {
   "cell_type": "code",
   "execution_count": 68,
   "id": "49cd2472-af23-45ea-bf04-d6164788b3ec",
   "metadata": {},
   "outputs": [
    {
     "data": {
      "text/html": [
       "<div>\n",
       "<style scoped>\n",
       "    .dataframe tbody tr th:only-of-type {\n",
       "        vertical-align: middle;\n",
       "    }\n",
       "\n",
       "    .dataframe tbody tr th {\n",
       "        vertical-align: top;\n",
       "    }\n",
       "\n",
       "    .dataframe thead th {\n",
       "        text-align: right;\n",
       "    }\n",
       "</style>\n",
       "<table border=\"1\" class=\"dataframe\">\n",
       "  <thead>\n",
       "    <tr style=\"text-align: right;\">\n",
       "      <th></th>\n",
       "      <th>Eccentricity</th>\n",
       "      <th>NumberStreamlinesRun2</th>\n",
       "    </tr>\n",
       "  </thead>\n",
       "  <tbody>\n",
       "    <tr>\n",
       "      <th>0</th>\n",
       "      <td>0.0</td>\n",
       "      <td>88.0</td>\n",
       "    </tr>\n",
       "    <tr>\n",
       "      <th>1</th>\n",
       "      <td>0.5</td>\n",
       "      <td>78.0</td>\n",
       "    </tr>\n",
       "    <tr>\n",
       "      <th>2</th>\n",
       "      <td>1.0</td>\n",
       "      <td>39.0</td>\n",
       "    </tr>\n",
       "    <tr>\n",
       "      <th>3</th>\n",
       "      <td>1.5</td>\n",
       "      <td>25.0</td>\n",
       "    </tr>\n",
       "    <tr>\n",
       "      <th>4</th>\n",
       "      <td>2.0</td>\n",
       "      <td>32.0</td>\n",
       "    </tr>\n",
       "    <tr>\n",
       "      <th>5</th>\n",
       "      <td>2.5</td>\n",
       "      <td>31.0</td>\n",
       "    </tr>\n",
       "    <tr>\n",
       "      <th>6</th>\n",
       "      <td>3.0</td>\n",
       "      <td>48.0</td>\n",
       "    </tr>\n",
       "    <tr>\n",
       "      <th>7</th>\n",
       "      <td>3.5</td>\n",
       "      <td>110.0</td>\n",
       "    </tr>\n",
       "    <tr>\n",
       "      <th>8</th>\n",
       "      <td>4.0</td>\n",
       "      <td>98.0</td>\n",
       "    </tr>\n",
       "    <tr>\n",
       "      <th>9</th>\n",
       "      <td>4.5</td>\n",
       "      <td>186.0</td>\n",
       "    </tr>\n",
       "    <tr>\n",
       "      <th>10</th>\n",
       "      <td>5.0</td>\n",
       "      <td>122.0</td>\n",
       "    </tr>\n",
       "    <tr>\n",
       "      <th>11</th>\n",
       "      <td>5.5</td>\n",
       "      <td>82.0</td>\n",
       "    </tr>\n",
       "    <tr>\n",
       "      <th>12</th>\n",
       "      <td>6.0</td>\n",
       "      <td>33.0</td>\n",
       "    </tr>\n",
       "  </tbody>\n",
       "</table>\n",
       "</div>"
      ],
      "text/plain": [
       "    Eccentricity  NumberStreamlinesRun2\n",
       "0            0.0                   88.0\n",
       "1            0.5                   78.0\n",
       "2            1.0                   39.0\n",
       "3            1.5                   25.0\n",
       "4            2.0                   32.0\n",
       "5            2.5                   31.0\n",
       "6            3.0                   48.0\n",
       "7            3.5                  110.0\n",
       "8            4.0                   98.0\n",
       "9            4.5                  186.0\n",
       "10           5.0                  122.0\n",
       "11           5.5                   82.0\n",
       "12           6.0                   33.0"
      ]
     },
     "execution_count": 68,
     "metadata": {},
     "output_type": "execute_result"
    }
   ],
   "source": [
    "df2 = pd.DataFrame(out[0], columns=[\"Eccentricity\", \"NumberStreamlinesRun2\"])\n",
    "\n",
    "df2withEndpoints = df2[df2[\"NumberStreamlinesRun2\"] > 0]\n",
    "\n",
    "df2Reasonable = df2withEndpoints[df2withEndpoints[\"Eccentricity\"] < 6.25]\n",
    "# Rounding to nearest 0.5\n",
    "df2Reasonable = (df2Reasonable*2).round()/2\n",
    "df2Reasonable = df2Reasonable.groupby(\"Eccentricity\").sum().reset_index()\n",
    "dfReasonable[\"NumberStreamlines\"] = dfReasonable[\"NumberStreamlines\"] / out[1]\n",
    "df2Reasonable"
   ]
  },
  {
   "cell_type": "code",
   "execution_count": 81,
   "id": "af16793c-814d-4375-90ac-74fb8e22881c",
   "metadata": {},
   "outputs": [],
   "source": [
    "dfToPlot = dfReasonable.merge(df2Reasonable, on=\"Eccentricity\")"
   ]
  },
  {
   "cell_type": "code",
   "execution_count": 82,
   "id": "9f232b36-8c38-470a-87fc-652bbbf01804",
   "metadata": {},
   "outputs": [
    {
     "data": {
      "text/plain": [
       "<BarContainer object of 13 artists>"
      ]
     },
     "execution_count": 82,
     "metadata": {},
     "output_type": "execute_result"
    },
    {
     "data": {
      "image/png": "[encoded data removed]",
      "text/plain": [
       "<Figure size 432x288 with 1 Axes>"
      ]
     },
     "metadata": {
      "needs_background": "light"
     },
     "output_type": "display_data"
    }
   ],
   "source": [
    "plt.bar(dfToPlot[\"Eccentricity\"], dfToPlot[\"NumberStreamlines\"], width=0.20)"
   ]
  },
  {
   "cell_type": "code",
   "execution_count": null,
   "id": "4e230cde-f4a0-418b-a5e4-612828085c09",
   "metadata": {},
   "outputs": [],
   "source": []
  },
  {
   "cell_type": "code",
   "execution_count": 11,
   "id": "33b86b5f-3338-4ff8-ba30-480eb57a5001",
   "metadata": {},
   "outputs": [
    {
     "data": {
      "text/html": [
       "<div>\n",
       "<style scoped>\n",
       "    .dataframe tbody tr th:only-of-type {\n",
       "        vertical-align: middle;\n",
       "    }\n",
       "\n",
       "    .dataframe tbody tr th {\n",
       "        vertical-align: top;\n",
       "    }\n",
       "\n",
       "    .dataframe thead th {\n",
       "        text-align: right;\n",
       "    }\n",
       "</style>\n",
       "<table border=\"1\" class=\"dataframe\">\n",
       "  <thead>\n",
       "    <tr style=\"text-align: right;\">\n",
       "      <th></th>\n",
       "      <th>Eccentricity</th>\n",
       "      <th>NumberStreamlines</th>\n",
       "    </tr>\n",
       "  </thead>\n",
       "  <tbody>\n",
       "    <tr>\n",
       "      <th>0</th>\n",
       "      <td>0.0</td>\n",
       "      <td>0.072727</td>\n",
       "    </tr>\n",
       "    <tr>\n",
       "      <th>1</th>\n",
       "      <td>0.5</td>\n",
       "      <td>0.071901</td>\n",
       "    </tr>\n",
       "    <tr>\n",
       "      <th>2</th>\n",
       "      <td>1.0</td>\n",
       "      <td>0.039669</td>\n",
       "    </tr>\n",
       "    <tr>\n",
       "      <th>3</th>\n",
       "      <td>1.5</td>\n",
       "      <td>0.020661</td>\n",
       "    </tr>\n",
       "    <tr>\n",
       "      <th>4</th>\n",
       "      <td>2.0</td>\n",
       "      <td>0.021488</td>\n",
       "    </tr>\n",
       "    <tr>\n",
       "      <th>5</th>\n",
       "      <td>2.5</td>\n",
       "      <td>0.019835</td>\n",
       "    </tr>\n",
       "    <tr>\n",
       "      <th>6</th>\n",
       "      <td>3.0</td>\n",
       "      <td>0.047934</td>\n",
       "    </tr>\n",
       "    <tr>\n",
       "      <th>7</th>\n",
       "      <td>3.5</td>\n",
       "      <td>0.089256</td>\n",
       "    </tr>\n",
       "    <tr>\n",
       "      <th>8</th>\n",
       "      <td>4.0</td>\n",
       "      <td>0.094215</td>\n",
       "    </tr>\n",
       "    <tr>\n",
       "      <th>9</th>\n",
       "      <td>4.5</td>\n",
       "      <td>0.117355</td>\n",
       "    </tr>\n",
       "    <tr>\n",
       "      <th>10</th>\n",
       "      <td>5.0</td>\n",
       "      <td>0.091736</td>\n",
       "    </tr>\n",
       "    <tr>\n",
       "      <th>11</th>\n",
       "      <td>5.5</td>\n",
       "      <td>0.071901</td>\n",
       "    </tr>\n",
       "    <tr>\n",
       "      <th>12</th>\n",
       "      <td>6.0</td>\n",
       "      <td>0.048760</td>\n",
       "    </tr>\n",
       "  </tbody>\n",
       "</table>\n",
       "</div>"
      ],
      "text/plain": [
       "    Eccentricity  NumberStreamlines\n",
       "0            0.0           0.072727\n",
       "1            0.5           0.071901\n",
       "2            1.0           0.039669\n",
       "3            1.5           0.020661\n",
       "4            2.0           0.021488\n",
       "5            2.5           0.019835\n",
       "6            3.0           0.047934\n",
       "7            3.5           0.089256\n",
       "8            4.0           0.094215\n",
       "9            4.5           0.117355\n",
       "10           5.0           0.091736\n",
       "11           5.5           0.071901\n",
       "12           6.0           0.048760"
      ]
     },
     "execution_count": 11,
     "metadata": {},
     "output_type": "execute_result"
    }
   ],
   "source": [
    "vars()[\"dfReasonable\"]\n",
    "dfReasonable"
   ]
  },
  {
   "cell_type": "code",
   "execution_count": null,
   "id": "990bbdd6",
   "metadata": {},
   "outputs": [],
   "source": []
  },
  {
   "cell_type": "code",
   "execution_count": null,
   "id": "12bafdf2",
   "metadata": {},
   "outputs": [],
   "source": []
  },
  {
   "cell_type": "code",
   "execution_count": null,
   "id": "bbdd928b",
   "metadata": {},
   "outputs": [],
   "source": []
  }
 ],
 "metadata": {
  "kernelspec": {
   "display_name": "Python 3 (ipykernel)",
   "language": "python",
   "name": "python3"
  },
  "language_info": {
   "codemirror_mode": {
    "name": "ipython",
    "version": 3
   },
   "file_extension": ".py",
   "mimetype": "text/x-python",
   "name": "python",
   "nbconvert_exporter": "python",
   "pygments_lexer": "ipython3",
   "version": "3.11.0"
  }
 },
 "nbformat": 4,
 "nbformat_minor": 5
}
